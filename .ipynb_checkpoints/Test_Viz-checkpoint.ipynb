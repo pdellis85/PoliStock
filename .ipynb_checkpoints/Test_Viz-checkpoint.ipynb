{
 "cells": [
  {
   "cell_type": "code",
   "execution_count": 33,
   "id": "09dee08b",
   "metadata": {},
   "outputs": [],
   "source": [
    "# Initial imports\n",
    "import pandas as pd\n",
    "import numpy as np\n",
    "from yahoo_fin.stock_info import get_data\n",
    "import yahoo_fin.stock_info as si\n",
    "import seaborn as sns\n",
    "import panel as pn\n",
    "from panel.interact import interact\n",
    "import plotly.express as px\n",
    "from pathlib import Path\n",
    "%matplotlib inline"
   ]
  },
  {
   "cell_type": "code",
   "execution_count": 34,
   "id": "1fa5c5ae",
   "metadata": {},
   "outputs": [],
   "source": [
    " # Set up Panel Plotly extension\n",
    "pn.extension('plotly')"
   ]
  },
  {
   "cell_type": "code",
   "execution_count": 35,
   "id": "50605672",
   "metadata": {},
   "outputs": [],
   "source": [
    "pd.options.plotting.backend = 'holoviews'\n",
    "import hvplot\n",
    "import hvplot.pandas  "
   ]
  },
  {
   "cell_type": "code",
   "execution_count": 36,
   "id": "ba01d66a",
   "metadata": {},
   "outputs": [],
   "source": [
    "# Read in data\n",
    "biden = pd.read_csv(Path(\"biden_returns_mean.csv\"))"
   ]
  },
  {
   "cell_type": "code",
   "execution_count": 37,
   "id": "02f47be6",
   "metadata": {},
   "outputs": [],
   "source": [
    "def get_biden_plot():\n",
    "    biden_plot = biden.plot.bar(flip_xaxis=True, label='Biden First Term', yformatter='%f')\n",
    "    return biden_plot"
   ]
  },
  {
   "cell_type": "code",
   "execution_count": 38,
   "id": "a0a3c678",
   "metadata": {},
   "outputs": [],
   "source": [
    "trump = pd.read_csv(Path(\"trump_returns_mean.csv\"))"
   ]
  },
  {
   "cell_type": "code",
   "execution_count": 39,
   "id": "4b49cd5b",
   "metadata": {},
   "outputs": [],
   "source": [
    "def get_trump_plot():\n",
    "    trump_plot = trump.plot.bar(flip_xaxis=True, label='Trump First Term', yformatter='%f')\n",
    "    return trump_plot"
   ]
  },
  {
   "cell_type": "code",
   "execution_count": 40,
   "id": "548a0b56",
   "metadata": {},
   "outputs": [],
   "source": [
    " # Create panels to structure the layout of the dashboard\n",
    "biden_column = pn.Column(\n",
    "    \"## Population and Crime Geo Plots\", get_biden_plot(), get_trump_plot()\n",
    ")\n",
    "\n",
    "trump_column = pn.Column(\n",
    "    \"## Correlation of Population and Crime Plots\",\n",
    "    get_biden_plot(),\n",
    "    get_trump_plot(),\n",
    ")\n",
    "\n",
    "# Create tabs\n",
    "pop_dashboard = pn.Tabs(\n",
    "    (\"Geospatial\", biden_column), (\"Correlations\", trump_column)\n",
    ")"
   ]
  },
  {
   "cell_type": "code",
   "execution_count": 41,
   "id": "9ac9159c",
   "metadata": {},
   "outputs": [
    {
     "data": {},
     "metadata": {},
     "output_type": "display_data"
    },
    {
     "data": {},
     "metadata": {},
     "output_type": "display_data"
    },
    {
     "data": {
      "application/vnd.holoviews_exec.v0+json": "",
      "text/html": [
       "<div id='2829'>\n",
       "\n",
       "\n",
       "\n",
       "\n",
       "\n",
       "  <div class=\"bk-root\" id=\"51a20a6e-3a6e-42e2-b72f-eaef3894442f\" data-root-id=\"2829\"></div>\n",
       "</div>\n",
       "<script type=\"application/javascript\">(function(root) {\n",
       "  function embed_document(root) {\n",
       "    var docs_json = {\"3122dc5a-1f2c-465f-962b-a9e6a57cb4eb\":{\"defs\":[{\"extends\":null,\"module\":null,\"name\":\"ReactiveHTML1\",\"overrides\":[],\"properties\":[]},{\"extends\":null,\"module\":null,\"name\":\"FlexBox1\",\"overrides\":[],\"properties\":[{\"default\":\"flex-start\",\"kind\":null,\"name\":\"align_content\"},{\"default\":\"flex-start\",\"kind\":null,\"name\":\"align_items\"},{\"default\":\"row\",\"kind\":null,\"name\":\"flex_direction\"},{\"default\":\"wrap\",\"kind\":null,\"name\":\"flex_wrap\"},{\"default\":\"flex-start\",\"kind\":null,\"name\":\"justify_content\"}]},{\"extends\":null,\"module\":null,\"name\":\"TemplateActions1\",\"overrides\":[],\"properties\":[{\"default\":0,\"kind\":null,\"name\":\"open_modal\"},{\"default\":0,\"kind\":null,\"name\":\"close_modal\"}]},{\"extends\":null,\"module\":null,\"name\":\"MaterialTemplateActions1\",\"overrides\":[],\"properties\":[{\"default\":0,\"kind\":null,\"name\":\"open_modal\"},{\"default\":0,\"kind\":null,\"name\":\"close_modal\"}]}],\"roots\":{\"references\":[{\"attributes\":{},\"id\":\"2909\",\"type\":\"CategoricalScale\"},{\"attributes\":{\"axis_label\":\"\",\"formatter\":{\"id\":\"3016\"},\"major_label_policy\":{\"id\":\"3018\"},\"ticker\":{\"id\":\"2986\"}},\"id\":\"2985\",\"type\":\"CategoricalAxis\"},{\"attributes\":{\"fill_alpha\":{\"value\":0.2},\"fill_color\":{\"field\":\"Variable\",\"transform\":{\"id\":\"3005\"}},\"line_alpha\":{\"value\":0.2},\"top\":{\"field\":\"value\"},\"width\":{\"value\":0.8},\"x\":{\"field\":\"xoffsets\"}},\"id\":\"3011\",\"type\":\"VBar\"},{\"attributes\":{\"data\":{\"Variable\":[\"Before\",\"Before\",\"Before\",\"Before\",\"Before\",\"After\",\"After\",\"After\",\"After\",\"After\"],\"index\":[\"0\",\"1\",\"2\",\"3\",\"4\",\"0\",\"1\",\"2\",\"3\",\"4\"],\"value\":{\"__ndarray__\":\"Lf6Ex8uyZ78XSVHUDGdCP1IX5ZOAdiM/sKz4X1vdJr+7mDGJAcw6P0NKIT1/53g/IeBHmuT5aj/E348hdI1mP2mg4j49w1g/8sDHdFU9YT8=\",\"dtype\":\"float64\",\"order\":\"little\",\"shape\":[10]},\"xoffsets\":[[\"0\",\"Before\"],[\"1\",\"Before\"],[\"2\",\"Before\"],[\"3\",\"Before\"],[\"4\",\"Before\"],[\"0\",\"After\"],[\"1\",\"After\"],[\"2\",\"After\"],[\"3\",\"After\"],[\"4\",\"After\"]]},\"selected\":{\"id\":\"3007\"},\"selection_policy\":{\"id\":\"3031\"}},\"id\":\"3006\",\"type\":\"ColumnDataSource\"},{\"attributes\":{},\"id\":\"3100\",\"type\":\"UnionRenderers\"},{\"attributes\":{\"below\":[{\"id\":\"2913\"}],\"center\":[{\"id\":\"2915\"},{\"id\":\"2919\"}],\"height\":300,\"left\":[{\"id\":\"2916\"}],\"margin\":[5,5,5,5],\"min_border_bottom\":10,\"min_border_left\":10,\"min_border_right\":10,\"min_border_top\":10,\"renderers\":[{\"id\":\"2940\"}],\"sizing_mode\":\"fixed\",\"title\":{\"id\":\"2905\"},\"toolbar\":{\"id\":\"2926\"},\"width\":700,\"x_range\":{\"id\":\"2832\"},\"x_scale\":{\"id\":\"2909\"},\"y_range\":{\"id\":\"2833\"},\"y_scale\":{\"id\":\"2911\"}},\"id\":\"2904\",\"subtype\":\"Figure\",\"type\":\"Plot\"},{\"attributes\":{},\"id\":\"2981\",\"type\":\"CategoricalScale\"},{\"attributes\":{},\"id\":\"2851\",\"type\":\"SaveTool\"},{\"attributes\":{},\"id\":\"2911\",\"type\":\"LinearScale\"},{\"attributes\":{},\"id\":\"2935\",\"type\":\"Selection\"},{\"attributes\":{\"fill_alpha\":{\"value\":0.2},\"fill_color\":{\"field\":\"Variable\",\"transform\":{\"id\":\"2933\"}},\"line_alpha\":{\"value\":0.2},\"top\":{\"field\":\"value\"},\"width\":{\"value\":0.8},\"x\":{\"field\":\"xoffsets\"}},\"id\":\"2939\",\"type\":\"VBar\"},{\"attributes\":{},\"id\":\"2983\",\"type\":\"LinearScale\"},{\"attributes\":{\"callback\":null,\"renderers\":[{\"id\":\"2940\"}],\"tags\":[\"hv_created\"],\"tooltips\":[[\"index\",\"@{index}\"],[\"Variable\",\"@{Variable}\"],[\"value\",\"@{value}\"]]},\"id\":\"2903\",\"type\":\"HoverTool\"},{\"attributes\":{\"below\":[{\"id\":\"2985\"}],\"center\":[{\"id\":\"2987\"},{\"id\":\"2991\"}],\"height\":300,\"left\":[{\"id\":\"2988\"}],\"margin\":[5,5,5,5],\"min_border_bottom\":10,\"min_border_left\":10,\"min_border_right\":10,\"min_border_top\":10,\"renderers\":[{\"id\":\"3012\"}],\"sizing_mode\":\"fixed\",\"title\":{\"id\":\"2977\"},\"toolbar\":{\"id\":\"2998\"},\"width\":700,\"x_range\":{\"id\":\"2832\"},\"x_scale\":{\"id\":\"2981\"},\"y_range\":{\"id\":\"2833\"},\"y_scale\":{\"id\":\"2983\"}},\"id\":\"2976\",\"subtype\":\"Figure\",\"type\":\"Plot\"},{\"attributes\":{\"bottom_units\":\"screen\",\"fill_alpha\":0.5,\"fill_color\":\"lightgrey\",\"left_units\":\"screen\",\"level\":\"overlay\",\"line_alpha\":1.0,\"line_color\":\"black\",\"line_dash\":[4,4],\"line_width\":2,\"right_units\":\"screen\",\"syncable\":false,\"top_units\":\"screen\"},\"id\":\"2856\",\"type\":\"BoxAnnotation\"},{\"attributes\":{\"client_comm_id\":\"491e468abfc745ed9c27bfdfc1c029e3\",\"comm_id\":\"11e63b7b6b584813b24fddfbbb82f836\",\"plot_id\":\"2829\"},\"id\":\"3220\",\"type\":\"panel.models.comm_manager.CommManager\"},{\"attributes\":{\"axis_label\":\"\",\"formatter\":{\"id\":\"2944\"},\"major_label_policy\":{\"id\":\"2946\"},\"ticker\":{\"id\":\"2914\"}},\"id\":\"2913\",\"type\":\"CategoricalAxis\"},{\"attributes\":{\"data_source\":{\"id\":\"3006\"},\"glyph\":{\"id\":\"3009\"},\"hover_glyph\":null,\"muted_glyph\":{\"id\":\"3011\"},\"nonselection_glyph\":{\"id\":\"3010\"},\"selection_glyph\":{\"id\":\"3014\"},\"view\":{\"id\":\"3013\"}},\"id\":\"3012\",\"type\":\"GlyphRenderer\"},{\"attributes\":{\"overlay\":{\"id\":\"2997\"}},\"id\":\"2995\",\"type\":\"BoxZoomTool\"},{\"attributes\":{},\"id\":\"2914\",\"type\":\"CategoricalTicker\"},{\"attributes\":{},\"id\":\"2994\",\"type\":\"WheelZoomTool\"},{\"attributes\":{\"axis_label\":\"\",\"formatter\":{\"id\":\"3085\"},\"major_label_policy\":{\"id\":\"3087\"},\"ticker\":{\"id\":\"3055\"}},\"id\":\"3054\",\"type\":\"CategoricalAxis\"},{\"attributes\":{\"fill_color\":{\"field\":\"Variable\",\"transform\":{\"id\":\"2933\"}},\"top\":{\"field\":\"value\"},\"width\":{\"value\":0.8},\"x\":{\"field\":\"xoffsets\"}},\"id\":\"2937\",\"type\":\"VBar\"},{\"attributes\":{\"axis\":{\"id\":\"2916\"},\"dimension\":1,\"grid_line_color\":null,\"ticker\":null},\"id\":\"2919\",\"type\":\"Grid\"},{\"attributes\":{},\"id\":\"2996\",\"type\":\"ResetTool\"},{\"attributes\":{\"text\":\"Trump First Term\",\"text_color\":\"black\",\"text_font_size\":\"12pt\"},\"id\":\"2905\",\"type\":\"Title\"},{\"attributes\":{},\"id\":\"3087\",\"type\":\"AllLabels\"},{\"attributes\":{\"format\":\"%f\"},\"id\":\"3015\",\"type\":\"PrintfTickFormatter\"},{\"attributes\":{\"bottom\":{\"value\":0},\"fill_alpha\":{\"value\":1.0},\"fill_color\":{\"field\":\"Variable\",\"transform\":{\"id\":\"2933\"}},\"hatch_alpha\":{\"value\":1.0},\"hatch_color\":{\"value\":\"black\"},\"hatch_scale\":{\"value\":12.0},\"hatch_weight\":{\"value\":1.0},\"line_alpha\":{\"value\":1.0},\"line_cap\":{\"value\":\"butt\"},\"line_color\":{\"value\":\"black\"},\"line_dash\":{\"value\":[]},\"line_dash_offset\":{\"value\":0},\"line_join\":{\"value\":\"bevel\"},\"line_width\":{\"value\":1},\"top\":{\"field\":\"value\"},\"width\":{\"value\":0.8},\"x\":{\"field\":\"xoffsets\"}},\"id\":\"2942\",\"type\":\"VBar\"},{\"attributes\":{\"source\":{\"id\":\"3006\"}},\"id\":\"3013\",\"type\":\"CDSView\"},{\"attributes\":{\"margin\":[0,0,0,0],\"tabs\":[{\"id\":\"2970\"},{\"id\":\"3111\"}]},\"id\":\"2829\",\"type\":\"Tabs\"},{\"attributes\":{\"child\":{\"id\":\"2830\"},\"name\":\"Column04043\",\"title\":\"Geospatial\"},\"id\":\"2970\",\"type\":\"Panel\"},{\"attributes\":{\"axis\":{\"id\":\"2913\"},\"grid_line_color\":null,\"ticker\":null},\"id\":\"2915\",\"type\":\"Grid\"},{\"attributes\":{\"text\":\"Biden First Term\",\"text_color\":\"black\",\"text_font_size\":\"12pt\"},\"id\":\"2977\",\"type\":\"Title\"},{\"attributes\":{\"active_multi\":null,\"tools\":[{\"id\":\"2975\"},{\"id\":\"2992\"},{\"id\":\"2993\"},{\"id\":\"2994\"},{\"id\":\"2995\"},{\"id\":\"2996\"}]},\"id\":\"2998\",\"type\":\"Toolbar\"},{\"attributes\":{},\"id\":\"2917\",\"type\":\"BasicTicker\"},{\"attributes\":{\"axis_label\":\"\",\"formatter\":{\"id\":\"2943\"},\"major_label_policy\":{\"id\":\"2949\"},\"ticker\":{\"id\":\"2917\"}},\"id\":\"2916\",\"type\":\"LinearAxis\"},{\"attributes\":{\"axis\":{\"id\":\"2988\"},\"dimension\":1,\"grid_line_color\":null,\"ticker\":null},\"id\":\"2991\",\"type\":\"Grid\"},{\"attributes\":{\"data_source\":{\"id\":\"2934\"},\"glyph\":{\"id\":\"2937\"},\"hover_glyph\":null,\"muted_glyph\":{\"id\":\"2939\"},\"nonselection_glyph\":{\"id\":\"2938\"},\"selection_glyph\":{\"id\":\"2942\"},\"view\":{\"id\":\"2941\"}},\"id\":\"2940\",\"type\":\"GlyphRenderer\"},{\"attributes\":{\"child\":{\"id\":\"2971\"},\"name\":\"Column04179\",\"title\":\"Correlations\"},\"id\":\"3111\",\"type\":\"Panel\"},{\"attributes\":{},\"id\":\"2993\",\"type\":\"PanTool\"},{\"attributes\":{\"data\":{\"Variable\":[\"Before\",\"Before\",\"Before\",\"Before\",\"Before\",\"After\",\"After\",\"After\",\"After\",\"After\"],\"index\":[\"0\",\"1\",\"2\",\"3\",\"4\",\"0\",\"1\",\"2\",\"3\",\"4\"],\"value\":{\"__ndarray__\":\"Lf6Ex8uyZ78XSVHUDGdCP1IX5ZOAdiM/sKz4X1vdJr+7mDGJAcw6P0NKIT1/53g/IeBHmuT5aj/E348hdI1mP2mg4j49w1g/8sDHdFU9YT8=\",\"dtype\":\"float64\",\"order\":\"little\",\"shape\":[10]},\"xoffsets\":[[\"0\",\"Before\"],[\"1\",\"Before\"],[\"2\",\"Before\"],[\"3\",\"Before\"],[\"4\",\"Before\"],[\"0\",\"After\"],[\"1\",\"After\"],[\"2\",\"After\"],[\"3\",\"After\"],[\"4\",\"After\"]]},\"selected\":{\"id\":\"2866\"},\"selection_policy\":{\"id\":\"2890\"}},\"id\":\"2865\",\"type\":\"ColumnDataSource\"},{\"attributes\":{\"source\":{\"id\":\"2934\"}},\"id\":\"2941\",\"type\":\"CDSView\"},{\"attributes\":{},\"id\":\"2986\",\"type\":\"CategoricalTicker\"},{\"attributes\":{\"fill_alpha\":{\"value\":0.1},\"fill_color\":{\"field\":\"Variable\",\"transform\":{\"id\":\"2933\"}},\"line_alpha\":{\"value\":0.1},\"top\":{\"field\":\"value\"},\"width\":{\"value\":0.8},\"x\":{\"field\":\"xoffsets\"}},\"id\":\"2938\",\"type\":\"VBar\"},{\"attributes\":{\"factors\":[\"Before\",\"After\"],\"palette\":[\"#30a2da\",\"#fc4f30\"]},\"id\":\"2864\",\"type\":\"CategoricalColorMapper\"},{\"attributes\":{},\"id\":\"2992\",\"type\":\"SaveTool\"},{\"attributes\":{\"axis\":{\"id\":\"2985\"},\"grid_line_color\":null,\"ticker\":null},\"id\":\"2987\",\"type\":\"Grid\"},{\"attributes\":{},\"id\":\"2920\",\"type\":\"SaveTool\"},{\"attributes\":{\"fill_alpha\":{\"value\":0.1},\"fill_color\":{\"field\":\"Variable\",\"transform\":{\"id\":\"2864\"}},\"line_alpha\":{\"value\":0.1},\"top\":{\"field\":\"value\"},\"width\":{\"value\":0.8},\"x\":{\"field\":\"xoffsets\"}},\"id\":\"2869\",\"type\":\"VBar\"},{\"attributes\":{},\"id\":\"2921\",\"type\":\"PanTool\"},{\"attributes\":{},\"id\":\"2989\",\"type\":\"BasicTicker\"},{\"attributes\":{\"fill_alpha\":{\"value\":0.1},\"fill_color\":{\"field\":\"Variable\",\"transform\":{\"id\":\"3005\"}},\"line_alpha\":{\"value\":0.1},\"top\":{\"field\":\"value\"},\"width\":{\"value\":0.8},\"x\":{\"field\":\"xoffsets\"}},\"id\":\"3010\",\"type\":\"VBar\"},{\"attributes\":{},\"id\":\"3055\",\"type\":\"CategoricalTicker\"},{\"attributes\":{\"axis_label\":\"\",\"formatter\":{\"id\":\"3015\"},\"major_label_policy\":{\"id\":\"3021\"},\"ticker\":{\"id\":\"2989\"}},\"id\":\"2988\",\"type\":\"LinearAxis\"},{\"attributes\":{},\"id\":\"2922\",\"type\":\"WheelZoomTool\"},{\"attributes\":{},\"id\":\"3058\",\"type\":\"BasicTicker\"},{\"attributes\":{\"active_multi\":null,\"tools\":[{\"id\":\"2903\"},{\"id\":\"2920\"},{\"id\":\"2921\"},{\"id\":\"2922\"},{\"id\":\"2923\"},{\"id\":\"2924\"}]},\"id\":\"2926\",\"type\":\"Toolbar\"},{\"attributes\":{},\"id\":\"2877\",\"type\":\"AllLabels\"},{\"attributes\":{\"overlay\":{\"id\":\"2925\"}},\"id\":\"2923\",\"type\":\"BoxZoomTool\"},{\"attributes\":{\"factors\":[\"Before\",\"After\"],\"palette\":[\"#30a2da\",\"#fc4f30\"]},\"id\":\"3074\",\"type\":\"CategoricalColorMapper\"},{\"attributes\":{\"bottom\":{\"value\":0},\"fill_alpha\":{\"value\":1.0},\"fill_color\":{\"field\":\"Variable\",\"transform\":{\"id\":\"3005\"}},\"hatch_alpha\":{\"value\":1.0},\"hatch_color\":{\"value\":\"black\"},\"hatch_scale\":{\"value\":12.0},\"hatch_weight\":{\"value\":1.0},\"line_alpha\":{\"value\":1.0},\"line_cap\":{\"value\":\"butt\"},\"line_color\":{\"value\":\"black\"},\"line_dash\":{\"value\":[]},\"line_dash_offset\":{\"value\":0},\"line_join\":{\"value\":\"bevel\"},\"line_width\":{\"value\":1},\"top\":{\"field\":\"value\"},\"width\":{\"value\":0.8},\"x\":{\"field\":\"xoffsets\"}},\"id\":\"3014\",\"type\":\"VBar\"},{\"attributes\":{},\"id\":\"2924\",\"type\":\"ResetTool\"},{\"attributes\":{},\"id\":\"2959\",\"type\":\"UnionRenderers\"},{\"attributes\":{\"css_classes\":[\"markdown\"],\"margin\":[5,5,5,5],\"name\":\"Markdown04167\",\"text\":\"&lt;h2&gt;Correlation of Population and Crime Plots&lt;/h2&gt;\"},\"id\":\"2972\",\"type\":\"panel.models.markup.HTML\"},{\"attributes\":{},\"id\":\"2890\",\"type\":\"UnionRenderers\"},{\"attributes\":{},\"id\":\"3031\",\"type\":\"UnionRenderers\"},{\"attributes\":{\"reload\":false},\"id\":\"3329\",\"type\":\"panel.models.location.Location\"},{\"attributes\":{},\"id\":\"3050\",\"type\":\"CategoricalScale\"},{\"attributes\":{},\"id\":\"3090\",\"type\":\"AllLabels\"},{\"attributes\":{},\"id\":\"2875\",\"type\":\"CategoricalTickFormatter\"},{\"attributes\":{},\"id\":\"3016\",\"type\":\"CategoricalTickFormatter\"},{\"attributes\":{\"children\":[{\"id\":\"2972\"},{\"id\":\"2976\"},{\"id\":\"3045\"}],\"margin\":[0,0,0,0],\"name\":\"Column04179\"},\"id\":\"2971\",\"type\":\"Column\"},{\"attributes\":{\"axis\":{\"id\":\"3057\"},\"dimension\":1,\"grid_line_color\":null,\"ticker\":null},\"id\":\"3060\",\"type\":\"Grid\"},{\"attributes\":{\"fill_color\":{\"field\":\"Variable\",\"transform\":{\"id\":\"3074\"}},\"top\":{\"field\":\"value\"},\"width\":{\"value\":0.8},\"x\":{\"field\":\"xoffsets\"}},\"id\":\"3078\",\"type\":\"VBar\"},{\"attributes\":{\"format\":\"%f\"},\"id\":\"2874\",\"type\":\"PrintfTickFormatter\"},{\"attributes\":{\"bottom_units\":\"screen\",\"fill_alpha\":0.5,\"fill_color\":\"lightgrey\",\"left_units\":\"screen\",\"level\":\"overlay\",\"line_alpha\":1.0,\"line_color\":\"black\",\"line_dash\":[4,4],\"line_width\":2,\"right_units\":\"screen\",\"syncable\":false,\"top_units\":\"screen\"},\"id\":\"2925\",\"type\":\"BoxAnnotation\"},{\"attributes\":{\"format\":\"%f\"},\"id\":\"3084\",\"type\":\"PrintfTickFormatter\"},{\"attributes\":{\"children\":[{\"id\":\"2831\"},{\"id\":\"2835\"},{\"id\":\"2904\"}],\"margin\":[0,0,0,0],\"name\":\"Column04043\"},\"id\":\"2830\",\"type\":\"Column\"},{\"attributes\":{\"end\":0.006977449922400679,\"reset_end\":0.006977449922400679,\"reset_start\":-0.0037901759242046805,\"start\":-0.0037901759242046805,\"tags\":[[[\"value\",\"value\",null]]]},\"id\":\"2833\",\"type\":\"Range1d\"},{\"attributes\":{},\"id\":\"3007\",\"type\":\"Selection\"},{\"attributes\":{\"callback\":null,\"renderers\":[{\"id\":\"2871\"}],\"tags\":[\"hv_created\"],\"tooltips\":[[\"index\",\"@{index}\"],[\"Variable\",\"@{Variable}\"],[\"value\",\"@{value}\"]]},\"id\":\"2834\",\"type\":\"HoverTool\"},{\"attributes\":{\"bottom_units\":\"screen\",\"fill_alpha\":0.5,\"fill_color\":\"lightgrey\",\"left_units\":\"screen\",\"level\":\"overlay\",\"line_alpha\":1.0,\"line_color\":\"black\",\"line_dash\":[4,4],\"line_width\":2,\"right_units\":\"screen\",\"syncable\":false,\"top_units\":\"screen\"},\"id\":\"2997\",\"type\":\"BoxAnnotation\"},{\"attributes\":{},\"id\":\"3076\",\"type\":\"Selection\"},{\"attributes\":{\"data_source\":{\"id\":\"3075\"},\"glyph\":{\"id\":\"3078\"},\"hover_glyph\":null,\"muted_glyph\":{\"id\":\"3080\"},\"nonselection_glyph\":{\"id\":\"3079\"},\"selection_glyph\":{\"id\":\"3083\"},\"view\":{\"id\":\"3082\"}},\"id\":\"3081\",\"type\":\"GlyphRenderer\"},{\"attributes\":{\"text\":\"Trump First Term\",\"text_color\":\"black\",\"text_font_size\":\"12pt\"},\"id\":\"3046\",\"type\":\"Title\"},{\"attributes\":{\"data\":{\"Variable\":[\"Before\",\"Before\",\"Before\",\"Before\",\"Before\",\"After\",\"After\",\"After\",\"After\",\"After\"],\"index\":[\"0\",\"1\",\"2\",\"3\",\"4\",\"0\",\"1\",\"2\",\"3\",\"4\"],\"value\":{\"__ndarray__\":\"DFx9eJa2MT+RVfOEB/g4P04wT9VVFSM/ykLVG2tsVb9eb4h3Afkwv1JwrfFTgUU/3uy0B0hPZT/wG9jIJsVTPz23trcRaEg/WeRGqWg3Uj8=\",\"dtype\":\"float64\",\"order\":\"little\",\"shape\":[10]},\"xoffsets\":[[\"0\",\"Before\"],[\"1\",\"Before\"],[\"2\",\"Before\"],[\"3\",\"Before\"],[\"4\",\"Before\"],[\"0\",\"After\"],[\"1\",\"After\"],[\"2\",\"After\"],[\"3\",\"After\"],[\"4\",\"After\"]]},\"selected\":{\"id\":\"2935\"},\"selection_policy\":{\"id\":\"2959\"}},\"id\":\"2934\",\"type\":\"ColumnDataSource\"},{\"attributes\":{\"bottom\":{\"value\":0},\"fill_alpha\":{\"value\":1.0},\"fill_color\":{\"field\":\"Variable\",\"transform\":{\"id\":\"2864\"}},\"hatch_alpha\":{\"value\":1.0},\"hatch_color\":{\"value\":\"black\"},\"hatch_scale\":{\"value\":12.0},\"hatch_weight\":{\"value\":1.0},\"line_alpha\":{\"value\":1.0},\"line_cap\":{\"value\":\"butt\"},\"line_color\":{\"value\":\"black\"},\"line_dash\":{\"value\":[]},\"line_dash_offset\":{\"value\":0},\"line_join\":{\"value\":\"bevel\"},\"line_width\":{\"value\":1},\"top\":{\"field\":\"value\"},\"width\":{\"value\":0.8},\"x\":{\"field\":\"xoffsets\"}},\"id\":\"2873\",\"type\":\"VBar\"},{\"attributes\":{},\"id\":\"2949\",\"type\":\"AllLabels\"},{\"attributes\":{\"fill_color\":{\"field\":\"Variable\",\"transform\":{\"id\":\"2864\"}},\"top\":{\"field\":\"value\"},\"width\":{\"value\":0.8},\"x\":{\"field\":\"xoffsets\"}},\"id\":\"2868\",\"type\":\"VBar\"},{\"attributes\":{\"format\":\"%f\"},\"id\":\"2943\",\"type\":\"PrintfTickFormatter\"},{\"attributes\":{\"source\":{\"id\":\"2865\"}},\"id\":\"2872\",\"type\":\"CDSView\"},{\"attributes\":{\"bottom\":{\"value\":0},\"fill_alpha\":{\"value\":1.0},\"fill_color\":{\"field\":\"Variable\",\"transform\":{\"id\":\"3074\"}},\"hatch_alpha\":{\"value\":1.0},\"hatch_color\":{\"value\":\"black\"},\"hatch_scale\":{\"value\":12.0},\"hatch_weight\":{\"value\":1.0},\"line_alpha\":{\"value\":1.0},\"line_cap\":{\"value\":\"butt\"},\"line_color\":{\"value\":\"black\"},\"line_dash\":{\"value\":[]},\"line_dash_offset\":{\"value\":0},\"line_join\":{\"value\":\"bevel\"},\"line_width\":{\"value\":1},\"top\":{\"field\":\"value\"},\"width\":{\"value\":0.8},\"x\":{\"field\":\"xoffsets\"}},\"id\":\"3083\",\"type\":\"VBar\"},{\"attributes\":{\"axis_label\":\"\",\"formatter\":{\"id\":\"3084\"},\"major_label_policy\":{\"id\":\"3090\"},\"ticker\":{\"id\":\"3058\"}},\"id\":\"3057\",\"type\":\"LinearAxis\"},{\"attributes\":{\"below\":[{\"id\":\"3054\"}],\"center\":[{\"id\":\"3056\"},{\"id\":\"3060\"}],\"height\":300,\"left\":[{\"id\":\"3057\"}],\"margin\":[5,5,5,5],\"min_border_bottom\":10,\"min_border_left\":10,\"min_border_right\":10,\"min_border_top\":10,\"renderers\":[{\"id\":\"3081\"}],\"sizing_mode\":\"fixed\",\"title\":{\"id\":\"3046\"},\"toolbar\":{\"id\":\"3067\"},\"width\":700,\"x_range\":{\"id\":\"2832\"},\"x_scale\":{\"id\":\"3050\"},\"y_range\":{\"id\":\"2833\"},\"y_scale\":{\"id\":\"3052\"}},\"id\":\"3045\",\"subtype\":\"Figure\",\"type\":\"Plot\"},{\"attributes\":{\"axis_label\":\"\",\"formatter\":{\"id\":\"2875\"},\"major_label_policy\":{\"id\":\"2877\"},\"ticker\":{\"id\":\"2845\"}},\"id\":\"2844\",\"type\":\"CategoricalAxis\"},{\"attributes\":{\"below\":[{\"id\":\"2844\"}],\"center\":[{\"id\":\"2846\"},{\"id\":\"2850\"}],\"height\":300,\"left\":[{\"id\":\"2847\"}],\"margin\":[5,5,5,5],\"min_border_bottom\":10,\"min_border_left\":10,\"min_border_right\":10,\"min_border_top\":10,\"renderers\":[{\"id\":\"2871\"}],\"sizing_mode\":\"fixed\",\"title\":{\"id\":\"2836\"},\"toolbar\":{\"id\":\"2857\"},\"width\":700,\"x_range\":{\"id\":\"2832\"},\"x_scale\":{\"id\":\"2840\"},\"y_range\":{\"id\":\"2833\"},\"y_scale\":{\"id\":\"2842\"}},\"id\":\"2835\",\"subtype\":\"Figure\",\"type\":\"Plot\"},{\"attributes\":{},\"id\":\"2840\",\"type\":\"CategoricalScale\"},{\"attributes\":{\"css_classes\":[\"markdown\"],\"margin\":[5,5,5,5],\"name\":\"Markdown04031\",\"text\":\"&lt;h2&gt;Population and Crime Geo Plots&lt;/h2&gt;\"},\"id\":\"2831\",\"type\":\"panel.models.markup.HTML\"},{\"attributes\":{},\"id\":\"3063\",\"type\":\"WheelZoomTool\"},{\"attributes\":{\"data\":{\"Variable\":[\"Before\",\"Before\",\"Before\",\"Before\",\"Before\",\"After\",\"After\",\"After\",\"After\",\"After\"],\"index\":[\"0\",\"1\",\"2\",\"3\",\"4\",\"0\",\"1\",\"2\",\"3\",\"4\"],\"value\":{\"__ndarray__\":\"DFx9eJa2MT+RVfOEB/g4P04wT9VVFSM/ykLVG2tsVb9eb4h3Afkwv1JwrfFTgUU/3uy0B0hPZT/wG9jIJsVTPz23trcRaEg/WeRGqWg3Uj8=\",\"dtype\":\"float64\",\"order\":\"little\",\"shape\":[10]},\"xoffsets\":[[\"0\",\"Before\"],[\"1\",\"Before\"],[\"2\",\"Before\"],[\"3\",\"Before\"],[\"4\",\"Before\"],[\"0\",\"After\"],[\"1\",\"After\"],[\"2\",\"After\"],[\"3\",\"After\"],[\"4\",\"After\"]]},\"selected\":{\"id\":\"3076\"},\"selection_policy\":{\"id\":\"3100\"}},\"id\":\"3075\",\"type\":\"ColumnDataSource\"},{\"attributes\":{},\"id\":\"2842\",\"type\":\"LinearScale\"},{\"attributes\":{},\"id\":\"2944\",\"type\":\"CategoricalTickFormatter\"},{\"attributes\":{},\"id\":\"3062\",\"type\":\"PanTool\"},{\"attributes\":{\"text\":\"Biden First Term\",\"text_color\":\"black\",\"text_font_size\":\"12pt\"},\"id\":\"2836\",\"type\":\"Title\"},{\"attributes\":{\"fill_alpha\":{\"value\":0.1},\"fill_color\":{\"field\":\"Variable\",\"transform\":{\"id\":\"3074\"}},\"line_alpha\":{\"value\":0.1},\"top\":{\"field\":\"value\"},\"width\":{\"value\":0.8},\"x\":{\"field\":\"xoffsets\"}},\"id\":\"3079\",\"type\":\"VBar\"},{\"attributes\":{},\"id\":\"3061\",\"type\":\"SaveTool\"},{\"attributes\":{\"axis\":{\"id\":\"2847\"},\"dimension\":1,\"grid_line_color\":null,\"ticker\":null},\"id\":\"2850\",\"type\":\"Grid\"},{\"attributes\":{\"active_multi\":null,\"tools\":[{\"id\":\"3044\"},{\"id\":\"3061\"},{\"id\":\"3062\"},{\"id\":\"3063\"},{\"id\":\"3064\"},{\"id\":\"3065\"}]},\"id\":\"3067\",\"type\":\"Toolbar\"},{\"attributes\":{},\"id\":\"2845\",\"type\":\"CategoricalTicker\"},{\"attributes\":{\"source\":{\"id\":\"3075\"}},\"id\":\"3082\",\"type\":\"CDSView\"},{\"attributes\":{\"axis\":{\"id\":\"2844\"},\"grid_line_color\":null,\"ticker\":null},\"id\":\"2846\",\"type\":\"Grid\"},{\"attributes\":{},\"id\":\"2848\",\"type\":\"BasicTicker\"},{\"attributes\":{\"axis_label\":\"\",\"formatter\":{\"id\":\"2874\"},\"major_label_policy\":{\"id\":\"2880\"},\"ticker\":{\"id\":\"2848\"}},\"id\":\"2847\",\"type\":\"LinearAxis\"},{\"attributes\":{\"fill_color\":{\"field\":\"Variable\",\"transform\":{\"id\":\"3005\"}},\"top\":{\"field\":\"value\"},\"width\":{\"value\":0.8},\"x\":{\"field\":\"xoffsets\"}},\"id\":\"3009\",\"type\":\"VBar\"},{\"attributes\":{},\"id\":\"2946\",\"type\":\"AllLabels\"},{\"attributes\":{},\"id\":\"3085\",\"type\":\"CategoricalTickFormatter\"},{\"attributes\":{},\"id\":\"3018\",\"type\":\"AllLabels\"},{\"attributes\":{\"factors\":[\"Before\",\"After\"],\"palette\":[\"#30a2da\",\"#fc4f30\"]},\"id\":\"2933\",\"type\":\"CategoricalColorMapper\"},{\"attributes\":{\"fill_alpha\":{\"value\":0.2},\"fill_color\":{\"field\":\"Variable\",\"transform\":{\"id\":\"2864\"}},\"line_alpha\":{\"value\":0.2},\"top\":{\"field\":\"value\"},\"width\":{\"value\":0.8},\"x\":{\"field\":\"xoffsets\"}},\"id\":\"2870\",\"type\":\"VBar\"},{\"attributes\":{\"bottom_units\":\"screen\",\"fill_alpha\":0.5,\"fill_color\":\"lightgrey\",\"left_units\":\"screen\",\"level\":\"overlay\",\"line_alpha\":1.0,\"line_color\":\"black\",\"line_dash\":[4,4],\"line_width\":2,\"right_units\":\"screen\",\"syncable\":false,\"top_units\":\"screen\"},\"id\":\"3066\",\"type\":\"BoxAnnotation\"},{\"attributes\":{\"callback\":null,\"renderers\":[{\"id\":\"3012\"}],\"tags\":[\"hv_created\"],\"tooltips\":[[\"index\",\"@{index}\"],[\"Variable\",\"@{Variable}\"],[\"value\",\"@{value}\"]]},\"id\":\"2975\",\"type\":\"HoverTool\"},{\"attributes\":{\"callback\":null,\"renderers\":[{\"id\":\"3081\"}],\"tags\":[\"hv_created\"],\"tooltips\":[[\"index\",\"@{index}\"],[\"Variable\",\"@{Variable}\"],[\"value\",\"@{value}\"]]},\"id\":\"3044\",\"type\":\"HoverTool\"},{\"attributes\":{},\"id\":\"2880\",\"type\":\"AllLabels\"},{\"attributes\":{\"factors\":[\"Before\",\"After\"],\"palette\":[\"#30a2da\",\"#fc4f30\"]},\"id\":\"3005\",\"type\":\"CategoricalColorMapper\"},{\"attributes\":{\"active_multi\":null,\"tools\":[{\"id\":\"2834\"},{\"id\":\"2851\"},{\"id\":\"2852\"},{\"id\":\"2853\"},{\"id\":\"2854\"},{\"id\":\"2855\"}]},\"id\":\"2857\",\"type\":\"Toolbar\"},{\"attributes\":{},\"id\":\"3021\",\"type\":\"AllLabels\"},{\"attributes\":{},\"id\":\"2866\",\"type\":\"Selection\"},{\"attributes\":{\"data_source\":{\"id\":\"2865\"},\"glyph\":{\"id\":\"2868\"},\"hover_glyph\":null,\"muted_glyph\":{\"id\":\"2870\"},\"nonselection_glyph\":{\"id\":\"2869\"},\"selection_glyph\":{\"id\":\"2873\"},\"view\":{\"id\":\"2872\"}},\"id\":\"2871\",\"type\":\"GlyphRenderer\"},{\"attributes\":{},\"id\":\"2852\",\"type\":\"PanTool\"},{\"attributes\":{},\"id\":\"2853\",\"type\":\"WheelZoomTool\"},{\"attributes\":{\"fill_alpha\":{\"value\":0.2},\"fill_color\":{\"field\":\"Variable\",\"transform\":{\"id\":\"3074\"}},\"line_alpha\":{\"value\":0.2},\"top\":{\"field\":\"value\"},\"width\":{\"value\":0.8},\"x\":{\"field\":\"xoffsets\"}},\"id\":\"3080\",\"type\":\"VBar\"},{\"attributes\":{\"axis\":{\"id\":\"3054\"},\"grid_line_color\":null,\"ticker\":null},\"id\":\"3056\",\"type\":\"Grid\"},{\"attributes\":{\"overlay\":{\"id\":\"2856\"}},\"id\":\"2854\",\"type\":\"BoxZoomTool\"},{\"attributes\":{\"overlay\":{\"id\":\"3066\"}},\"id\":\"3064\",\"type\":\"BoxZoomTool\"},{\"attributes\":{},\"id\":\"3052\",\"type\":\"LinearScale\"},{\"attributes\":{},\"id\":\"2855\",\"type\":\"ResetTool\"},{\"attributes\":{\"factors\":[[\"4\",\"Before\"],[\"4\",\"After\"],[\"3\",\"Before\"],[\"3\",\"After\"],[\"2\",\"Before\"],[\"2\",\"After\"],[\"1\",\"Before\"],[\"1\",\"After\"],[\"0\",\"Before\"],[\"0\",\"After\"]],\"tags\":[[[\"index\",\"index\",null],[\"Variable\",\"Variable\",null]]]},\"id\":\"2832\",\"type\":\"FactorRange\"},{\"attributes\":{},\"id\":\"3065\",\"type\":\"ResetTool\"}],\"root_ids\":[\"2829\",\"3220\",\"3329\"]},\"title\":\"Bokeh Application\",\"version\":\"2.3.2\"}};\n",
       "    var render_items = [{\"docid\":\"3122dc5a-1f2c-465f-962b-a9e6a57cb4eb\",\"root_ids\":[\"2829\"],\"roots\":{\"2829\":\"51a20a6e-3a6e-42e2-b72f-eaef3894442f\"}}];\n",
       "    root.Bokeh.embed.embed_items_notebook(docs_json, render_items);\n",
       "  }\n",
       "  if (root.Bokeh !== undefined && root.Bokeh.Panel !== undefined && ( root['Plotly'] !== undefined)) {\n",
       "    embed_document(root);\n",
       "  } else {\n",
       "    var attempts = 0;\n",
       "    var timer = setInterval(function(root) {\n",
       "      if (root.Bokeh !== undefined && root.Bokeh.Panel !== undefined && (root['Plotly'] !== undefined)) {\n",
       "        clearInterval(timer);\n",
       "        embed_document(root);\n",
       "      } else if (document.readyState == \"complete\") {\n",
       "        attempts++;\n",
       "        if (attempts > 200) {\n",
       "          clearInterval(timer);\n",
       "          console.log(\"Bokeh: ERROR: Unable to run BokehJS code because BokehJS library is missing\");\n",
       "        }\n",
       "      }\n",
       "    }, 25, root)\n",
       "  }\n",
       "})(window);</script>"
      ],
      "text/plain": [
       "Tabs\n",
       "    [0] Column\n",
       "        [0] Markdown(str)\n",
       "        [1] HoloViews(Bars)\n",
       "        [2] HoloViews(Bars)\n",
       "    [1] Column\n",
       "        [0] Markdown(str)\n",
       "        [1] HoloViews(Bars)\n",
       "        [2] HoloViews(Bars)"
      ]
     },
     "execution_count": 41,
     "metadata": {
      "application/vnd.holoviews_exec.v0+json": {
       "id": "2829"
      }
     },
     "output_type": "execute_result"
    }
   ],
   "source": [
    " # Execute Panel dashboard using servable function\n",
    "pop_dashboard.servable()"
   ]
  },
  {
   "cell_type": "code",
   "execution_count": null,
   "id": "376f373e",
   "metadata": {},
   "outputs": [],
   "source": []
  }
 ],
 "metadata": {
  "kernelspec": {
   "display_name": "Python [conda env:pyvizenv] *",
   "language": "python",
   "name": "conda-env-pyvizenv-py"
  },
  "language_info": {
   "codemirror_mode": {
    "name": "ipython",
    "version": 3
   },
   "file_extension": ".py",
   "mimetype": "text/x-python",
   "name": "python",
   "nbconvert_exporter": "python",
   "pygments_lexer": "ipython3",
   "version": "3.7.10"
  }
 },
 "nbformat": 4,
 "nbformat_minor": 5
}
