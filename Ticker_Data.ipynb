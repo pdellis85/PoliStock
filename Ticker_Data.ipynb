{
 "cells": [
  {
   "cell_type": "code",
shrutib55

   "id": "019d88eb-a256-4027-856f-4874be3101d5",
   "metadata": {},
   "outputs": [],
   "source": [
    "# Initial imports\n",
    "import os\n",
    "import requests\n",
    "import json\n",
    "import pandas as pd\n",
    "from yahoo_fin.stock_info import get_data\n",
    "import yahoo_fin.stock_info as si\n",
shrutib55
    "import seaborn as sns\n",

   ]
  },
  {
   "cell_type": "code",
shrutib55
   "execution_count": 3,

   "id": "2d3796f4-d116-406e-9a40-b23df44b25fc",
   "metadata": {},
   "outputs": [
    {
     "data": {
      "text/html": [
       "<div>\n",
       "<style scoped>\n",
       "    .dataframe tbody tr th:only-of-type {\n",
       "        vertical-align: middle;\n",
       "    }\n",
       "\n",
       "    .dataframe tbody tr th {\n",
       "        vertical-align: top;\n",
       "    }\n",
       "\n",
       "    .dataframe thead th {\n",
       "        text-align: right;\n",
       "    }\n",
       "</style>\n",
       "<table border=\"1\" class=\"dataframe\">\n",
       "  <thead>\n",
       "    <tr style=\"text-align: right;\">\n",
       "      <th></th>\n",
       "      <th>open</th>\n",
       "      <th>high</th>\n",
       "      <th>low</th>\n",
       "      <th>close</th>\n",
       "      <th>adjclose</th>\n",
       "      <th>volume</th>\n",
       "      <th>ticker</th>\n",
       "    </tr>\n",
       "  </thead>\n",
       "  <tbody>\n",
       "    <tr>\n",
       "      <th>2000-01-03</th>\n",
       "      <td>27.312500</td>\n",
       "      <td>27.312500</td>\n",
       "      <td>26.375000</td>\n",
       "      <td>26.562500</td>\n",
       "      <td>15.663602</td>\n",
       "      <td>380300</td>\n",
       "      <td>XLE</td>\n",
       "    </tr>\n",
       "    <tr>\n",
       "      <th>2000-01-04</th>\n",
       "      <td>26.312500</td>\n",
       "      <td>26.312500</td>\n",
       "      <td>25.875000</td>\n",
       "      <td>26.062500</td>\n",
       "      <td>15.368752</td>\n",
       "      <td>722200</td>\n",
       "      <td>XLE</td>\n",
       "    </tr>\n",
       "    <tr>\n",
       "      <th>2000-01-05</th>\n",
       "      <td>26.125000</td>\n",
       "      <td>26.750000</td>\n",
       "      <td>26.000000</td>\n",
       "      <td>26.750000</td>\n",
       "      <td>15.774174</td>\n",
       "      <td>337800</td>\n",
       "      <td>XLE</td>\n",
       "    </tr>\n",
       "    <tr>\n",
       "      <th>2000-01-06</th>\n",
       "      <td>26.750000</td>\n",
       "      <td>27.843750</td>\n",
       "      <td>26.750000</td>\n",
       "      <td>27.781250</td>\n",
       "      <td>16.382275</td>\n",
       "      <td>133100</td>\n",
       "      <td>XLE</td>\n",
       "    </tr>\n",
       "    <tr>\n",
       "      <th>2000-01-07</th>\n",
       "      <td>27.687500</td>\n",
       "      <td>28.406250</td>\n",
       "      <td>27.687500</td>\n",
       "      <td>28.078125</td>\n",
       "      <td>16.557343</td>\n",
       "      <td>468000</td>\n",
       "      <td>XLE</td>\n",
       "    </tr>\n",
       "    <tr>\n",
       "      <th>...</th>\n",
       "      <td>...</td>\n",
       "      <td>...</td>\n",
       "      <td>...</td>\n",
       "      <td>...</td>\n",
       "      <td>...</td>\n",
       "      <td>...</td>\n",
       "      <td>...</td>\n",
       "    </tr>\n",
       "    <tr>\n",
       "      <th>2021-09-17</th>\n",
       "      <td>49.439999</td>\n",
       "      <td>50.220001</td>\n",
       "      <td>49.189999</td>\n",
       "      <td>49.320000</td>\n",
       "      <td>48.728001</td>\n",
       "      <td>31545900</td>\n",
       "      <td>XLE</td>\n",
       "    </tr>\n",
       "    <tr>\n",
       "      <th>2021-09-20</th>\n",
       "      <td>47.549999</td>\n",
       "      <td>47.810001</td>\n",
       "      <td>46.470001</td>\n",
       "      <td>47.240002</td>\n",
       "      <td>47.240002</td>\n",
       "      <td>42830000</td>\n",
       "      <td>XLE</td>\n",
       "    </tr>\n",
       "    <tr>\n",
       "      <th>2021-09-21</th>\n",
       "      <td>47.799999</td>\n",
       "      <td>48.049999</td>\n",
       "      <td>46.849998</td>\n",
       "      <td>47.349998</td>\n",
       "      <td>47.349998</td>\n",
       "      <td>25661700</td>\n",
       "      <td>XLE</td>\n",
       "    </tr>\n",
       "    <tr>\n",
       "      <th>2021-09-22</th>\n",
       "      <td>48.150002</td>\n",
       "      <td>49.380001</td>\n",
       "      <td>48.150002</td>\n",
       "      <td>48.810001</td>\n",
       "      <td>48.810001</td>\n",
       "      <td>39626100</td>\n",
       "      <td>XLE</td>\n",
       "    </tr>\n",
       "    <tr>\n",
       "      <th>2021-09-23</th>\n",
       "      <td>49.080002</td>\n",
       "      <td>50.669998</td>\n",
       "      <td>48.849998</td>\n",
       "      <td>50.520000</td>\n",
       "      <td>50.520000</td>\n",
       "      <td>24867100</td>\n",
       "      <td>XLE</td>\n",
       "    </tr>\n",
       "  </tbody>\n",
       "</table>\n",
       "<p>5467 rows × 7 columns</p>\n",
       "</div>"
      ],
      "text/plain": [
       "                 open       high        low      close   adjclose    volume  \\\n",
       "2000-01-03  27.312500  27.312500  26.375000  26.562500  15.663602    380300   \n",
       "2000-01-04  26.312500  26.312500  25.875000  26.062500  15.368752    722200   \n",
       "2000-01-05  26.125000  26.750000  26.000000  26.750000  15.774174    337800   \n",
       "2000-01-06  26.750000  27.843750  26.750000  27.781250  16.382275    133100   \n",
       "2000-01-07  27.687500  28.406250  27.687500  28.078125  16.557343    468000   \n",
       "...               ...        ...        ...        ...        ...       ...   \n",
       "2021-09-17  49.439999  50.220001  49.189999  49.320000  48.728001  31545900   \n",
       "2021-09-20  47.549999  47.810001  46.470001  47.240002  47.240002  42830000   \n",
       "2021-09-21  47.799999  48.049999  46.849998  47.349998  47.349998  25661700   \n",
       "2021-09-22  48.150002  49.380001  48.150002  48.810001  48.810001  39626100   \n",
       "2021-09-23  49.080002  50.669998  48.849998  50.520000  50.520000  24867100   \n",
       "\n",
       "           ticker  \n",
       "2000-01-03    XLE  \n",
       "2000-01-04    XLE  \n",
       "2000-01-05    XLE  \n",
       "2000-01-06    XLE  \n",
       "2000-01-07    XLE  \n",
       "...           ...  \n",
       "2021-09-17    XLE  \n",
       "2021-09-20    XLE  \n",
       "2021-09-21    XLE  \n",
       "2021-09-22    XLE  \n",
       "2021-09-23    XLE  \n",
       "\n",
       "[5467 rows x 7 columns]"
      ]
     },
shrutib55
     "execution_count": 3,

     "metadata": {},
     "output_type": "execute_result"
    }
   ],
   "source": [
    "# Pull daily stock data for S&P Energy Sector Fund from 2000 through current date\n",
    "XLE_daily = get_data(\"XLE\", start_date=\"01/01/2000\", end_date=\"09/24/2021\", index_as_date = True, interval=\"1d\")\n",
    "XLE_daily"
   ]
  },
  {
   "cell_type": "code",
shrutib55
   "execution_count": 4,

   "id": "db622109-c343-4ea7-8a7f-20e73c602947",
   "metadata": {},
   "outputs": [
    {
     "data": {
      "text/html": [
       "<div>\n",
       "<style scoped>\n",
       "    .dataframe tbody tr th:only-of-type {\n",
       "        vertical-align: middle;\n",
       "    }\n",
       "\n",
       "    .dataframe tbody tr th {\n",
       "        vertical-align: top;\n",
       "    }\n",
       "\n",
       "    .dataframe thead th {\n",
       "        text-align: right;\n",
       "    }\n",
       "</style>\n",
       "<table border=\"1\" class=\"dataframe\">\n",
       "  <thead>\n",
       "    <tr style=\"text-align: right;\">\n",
       "      <th></th>\n",
       "      <th>XLE Close</th>\n",
       "    </tr>\n",
       "  </thead>\n",
       "  <tbody>\n",
       "    <tr>\n",
       "      <th>2000-01-03</th>\n",
       "      <td>26.562500</td>\n",
       "    </tr>\n",
       "    <tr>\n",
       "      <th>2000-01-04</th>\n",
       "      <td>26.062500</td>\n",
       "    </tr>\n",
       "    <tr>\n",
       "      <th>2000-01-05</th>\n",
       "      <td>26.750000</td>\n",
       "    </tr>\n",
       "    <tr>\n",
       "      <th>2000-01-06</th>\n",
       "      <td>27.781250</td>\n",
       "    </tr>\n",
       "    <tr>\n",
       "      <th>2000-01-07</th>\n",
       "      <td>28.078125</td>\n",
       "    </tr>\n",
       "    <tr>\n",
       "      <th>...</th>\n",
       "      <td>...</td>\n",
       "    </tr>\n",
       "    <tr>\n",
       "      <th>2021-09-17</th>\n",
       "      <td>49.320000</td>\n",
       "    </tr>\n",
       "    <tr>\n",
       "      <th>2021-09-20</th>\n",
       "      <td>47.240002</td>\n",
       "    </tr>\n",
       "    <tr>\n",
       "      <th>2021-09-21</th>\n",
       "      <td>47.349998</td>\n",
       "    </tr>\n",
       "    <tr>\n",
       "      <th>2021-09-22</th>\n",
       "      <td>48.810001</td>\n",
       "    </tr>\n",
       "    <tr>\n",
       "      <th>2021-09-23</th>\n",
       "      <td>50.520000</td>\n",
       "    </tr>\n",
       "  </tbody>\n",
       "</table>\n",
       "<p>5467 rows × 1 columns</p>\n",
       "</div>"
      ],
      "text/plain": [
       "            XLE Close\n",
       "2000-01-03  26.562500\n",
       "2000-01-04  26.062500\n",
       "2000-01-05  26.750000\n",
       "2000-01-06  27.781250\n",
       "2000-01-07  28.078125\n",
       "...               ...\n",
       "2021-09-17  49.320000\n",
       "2021-09-20  47.240002\n",
       "2021-09-21  47.349998\n",
       "2021-09-22  48.810001\n",
       "2021-09-23  50.520000\n",
       "\n",
       "[5467 rows x 1 columns]"
      ]
     },
shrutib55
     "execution_count": 4,

     "metadata": {},
     "output_type": "execute_result"
    }
   ],
   "source": [
    "# Drop unneeded columns and rename the last column to be specific to this DataFrame\n",
    "XLE_close = XLE_daily.drop(columns=['open', 'high', 'low', 'adjclose', 'volume', 'ticker']).rename(columns = {'close': 'XLE Close'})\n",
    "XLE_close"
   ]
  },
  {
   "cell_type": "code",
shrutib55
   "execution_count": 5,

   "id": "31eaf254-ad59-479f-81f1-0f376cd49740",
   "metadata": {},
   "outputs": [
    {
     "name": "stdout",
     "output_type": "stream",
     "text": [
      "<class 'pandas.core.frame.DataFrame'>\n",
      "DatetimeIndex: 5467 entries, 2000-01-03 to 2021-09-23\n",
      "Data columns (total 1 columns):\n",
      " #   Column     Non-Null Count  Dtype  \n",
      "---  ------     --------------  -----  \n",
      " 0   XLE Close  5467 non-null   float64\n",
      "dtypes: float64(1)\n",
      "memory usage: 85.4 KB\n"
     ]
    }
   ],
   "source": [
    "# Confirm data has no null values and is in float format\n",
    "XLE_close.info()"
   ]
  },
  {
   "cell_type": "code",
shrutib55
   "execution_count": 6,

   "id": "0f8d4084-be83-45b6-9663-7108c1f8592a",
   "metadata": {},
   "outputs": [
    {
     "data": {
      "text/html": [
       "<div>\n",
       "<style scoped>\n",
       "    .dataframe tbody tr th:only-of-type {\n",
       "        vertical-align: middle;\n",
       "    }\n",
       "\n",
       "    .dataframe tbody tr th {\n",
       "        vertical-align: top;\n",
       "    }\n",
       "\n",
       "    .dataframe thead th {\n",
       "        text-align: right;\n",
       "    }\n",
       "</style>\n",
       "<table border=\"1\" class=\"dataframe\">\n",
       "  <thead>\n",
       "    <tr style=\"text-align: right;\">\n",
       "      <th></th>\n",
       "      <th>XLF Close</th>\n",
       "    </tr>\n",
       "  </thead>\n",
       "  <tbody>\n",
       "    <tr>\n",
       "      <th>2000-01-03</th>\n",
       "      <td>18.582453</td>\n",
       "    </tr>\n",
       "    <tr>\n",
       "      <th>2000-01-04</th>\n",
       "      <td>17.770105</td>\n",
       "    </tr>\n",
       "    <tr>\n",
       "      <th>2000-01-05</th>\n",
       "      <td>17.630484</td>\n",
       "    </tr>\n",
       "    <tr>\n",
       "      <th>2000-01-06</th>\n",
       "      <td>18.404753</td>\n",
       "    </tr>\n",
       "    <tr>\n",
       "      <th>2000-01-07</th>\n",
       "      <td>18.709383</td>\n",
       "    </tr>\n",
       "    <tr>\n",
       "      <th>...</th>\n",
       "      <td>...</td>\n",
       "    </tr>\n",
       "    <tr>\n",
       "      <th>2021-09-17</th>\n",
       "      <td>37.580002</td>\n",
       "    </tr>\n",
       "    <tr>\n",
       "      <th>2021-09-20</th>\n",
       "      <td>36.549999</td>\n",
       "    </tr>\n",
       "    <tr>\n",
       "      <th>2021-09-21</th>\n",
       "      <td>36.500000</td>\n",
       "    </tr>\n",
       "    <tr>\n",
       "      <th>2021-09-22</th>\n",
       "      <td>37.110001</td>\n",
       "    </tr>\n",
       "    <tr>\n",
       "      <th>2021-09-23</th>\n",
       "      <td>38.020000</td>\n",
       "    </tr>\n",
       "  </tbody>\n",
       "</table>\n",
       "<p>5467 rows × 1 columns</p>\n",
       "</div>"
      ],
      "text/plain": [
       "            XLF Close\n",
       "2000-01-03  18.582453\n",
       "2000-01-04  17.770105\n",
       "2000-01-05  17.630484\n",
       "2000-01-06  18.404753\n",
       "2000-01-07  18.709383\n",
       "...               ...\n",
       "2021-09-17  37.580002\n",
       "2021-09-20  36.549999\n",
       "2021-09-21  36.500000\n",
       "2021-09-22  37.110001\n",
       "2021-09-23  38.020000\n",
       "\n",
       "[5467 rows x 1 columns]"
      ]
     },
shrutib55
     "execution_count": 6,

     "metadata": {},
     "output_type": "execute_result"
    }
   ],
   "source": [
    "# Pull daily stock data for S&P Financial Sector Fund from 2000 through current date\n",
    "# Drop unneeded columns and rename the last column to be specific to this DataFrame\n",
    "XLF_daily = get_data(\"XLF\", start_date=\"01/01/2000\", end_date=\"09/24/2021\", index_as_date = True, interval=\"1d\")\n",
    "XLF_close = XLF_daily.drop(columns=['open', 'high', 'low', 'adjclose', 'volume', 'ticker']).rename(columns = {'close': 'XLF Close'})\n",
    "XLF_close"
   ]
  },
  {
   "cell_type": "code",
shrutib55
   "execution_count": 7,

   "id": "aa1c8e25-dd75-4405-b40f-cb17dc07f3fb",
   "metadata": {},
   "outputs": [
    {
     "name": "stdout",
     "output_type": "stream",
     "text": [
      "<class 'pandas.core.frame.DataFrame'>\n",
      "DatetimeIndex: 5467 entries, 2000-01-03 to 2021-09-23\n",
      "Data columns (total 1 columns):\n",
      " #   Column     Non-Null Count  Dtype  \n",
      "---  ------     --------------  -----  \n",
      " 0   XLF Close  5467 non-null   float64\n",
      "dtypes: float64(1)\n",
      "memory usage: 85.4 KB\n"
     ]
    }
   ],
   "source": [
    "# Confirm data has no null values and is in float format\n",
    "XLF_close.info()"
   ]
  },
  {
   "cell_type": "code",
shrutib55
   "execution_count": 8,

   "id": "64d46e3e-d8d3-4c8a-82f4-389014e3d7ed",
   "metadata": {},
   "outputs": [
    {
     "data": {
      "text/html": [
       "<div>\n",
       "<style scoped>\n",
       "    .dataframe tbody tr th:only-of-type {\n",
       "        vertical-align: middle;\n",
       "    }\n",
       "\n",
       "    .dataframe tbody tr th {\n",
       "        vertical-align: top;\n",
       "    }\n",
       "\n",
       "    .dataframe thead th {\n",
       "        text-align: right;\n",
       "    }\n",
       "</style>\n",
       "<table border=\"1\" class=\"dataframe\">\n",
       "  <thead>\n",
       "    <tr style=\"text-align: right;\">\n",
       "      <th></th>\n",
       "      <th>XLK Close</th>\n",
       "    </tr>\n",
       "  </thead>\n",
       "  <tbody>\n",
       "    <tr>\n",
       "      <th>2000-01-03</th>\n",
       "      <td>55.437500</td>\n",
       "    </tr>\n",
       "    <tr>\n",
       "      <th>2000-01-04</th>\n",
       "      <td>52.625000</td>\n",
       "    </tr>\n",
       "    <tr>\n",
       "      <th>2000-01-05</th>\n",
       "      <td>51.843750</td>\n",
       "    </tr>\n",
       "    <tr>\n",
       "      <th>2000-01-06</th>\n",
       "      <td>50.125000</td>\n",
       "    </tr>\n",
       "    <tr>\n",
       "      <th>2000-01-07</th>\n",
       "      <td>51.000000</td>\n",
       "    </tr>\n",
       "    <tr>\n",
       "      <th>...</th>\n",
       "      <td>...</td>\n",
       "    </tr>\n",
       "    <tr>\n",
       "      <th>2021-09-17</th>\n",
       "      <td>155.479996</td>\n",
       "    </tr>\n",
       "    <tr>\n",
       "      <th>2021-09-20</th>\n",
       "      <td>152.380005</td>\n",
       "    </tr>\n",
       "    <tr>\n",
       "      <th>2021-09-21</th>\n",
       "      <td>152.440002</td>\n",
       "    </tr>\n",
       "    <tr>\n",
       "      <th>2021-09-22</th>\n",
       "      <td>154.529999</td>\n",
       "    </tr>\n",
       "    <tr>\n",
       "      <th>2021-09-23</th>\n",
       "      <td>156.600006</td>\n",
       "    </tr>\n",
       "  </tbody>\n",
       "</table>\n",
       "<p>5467 rows × 1 columns</p>\n",
       "</div>"
      ],
      "text/plain": [
       "             XLK Close\n",
       "2000-01-03   55.437500\n",
       "2000-01-04   52.625000\n",
       "2000-01-05   51.843750\n",
       "2000-01-06   50.125000\n",
       "2000-01-07   51.000000\n",
       "...                ...\n",
       "2021-09-17  155.479996\n",
       "2021-09-20  152.380005\n",
       "2021-09-21  152.440002\n",
       "2021-09-22  154.529999\n",
       "2021-09-23  156.600006\n",
       "\n",
       "[5467 rows x 1 columns]"
      ]
     },
shrutib55
     "execution_count": 8,

     "metadata": {},
     "output_type": "execute_result"
    }
   ],
   "source": [
    "# Pull daily stock data for S&P Technology Sector Fund from 2000 through current date\n",
    "# Drop unneeded columns and rename the last column to be specific to this DataFrame\n",
    "XLK_daily = get_data(\"XLK\", start_date=\"01/01/2000\", end_date=\"09/24/2021\", index_as_date = True, interval=\"1d\")\n",
    "XLK_close = XLK_daily.drop(columns=['open', 'high', 'low', 'adjclose', 'volume', 'ticker']).rename(columns = {'close': 'XLK Close'})\n",
    "XLK_close"
   ]
  },
  {
   "cell_type": "code",
shrutib55

   "id": "5ab04e95-336e-4845-a2c6-ba68ce281f30",
   "metadata": {},
   "outputs": [
    {
     "name": "stdout",
     "output_type": "stream",
     "text": [
      "<class 'pandas.core.frame.DataFrame'>\n",
      "DatetimeIndex: 5467 entries, 2000-01-03 to 2021-09-23\n",
      "Data columns (total 1 columns):\n",
      " #   Column     Non-Null Count  Dtype  \n",
      "---  ------     --------------  -----  \n",
      " 0   XLK Close  5467 non-null   float64\n",
      "dtypes: float64(1)\n",
      "memory usage: 85.4 KB\n"
     ]
    }
   ],
   "source": [
    "# Confirm data has no null values and is in float format\n",
    "XLK_close.info()"
   ]
  },
  {
   "cell_type": "code",
shrutib55
   "execution_count": 10,

   "id": "b5afa5dd-a0db-43ab-81b4-6bbf9833526d",
   "metadata": {},
   "outputs": [
    {
     "data": {
      "text/html": [
       "<div>\n",
       "<style scoped>\n",
       "    .dataframe tbody tr th:only-of-type {\n",
       "        vertical-align: middle;\n",
       "    }\n",
       "\n",
       "    .dataframe tbody tr th {\n",
       "        vertical-align: top;\n",
       "    }\n",
       "\n",
       "    .dataframe thead th {\n",
       "        text-align: right;\n",
       "    }\n",
       "</style>\n",
       "<table border=\"1\" class=\"dataframe\">\n",
       "  <thead>\n",
       "    <tr style=\"text-align: right;\">\n",
       "      <th></th>\n",
       "      <th>XLRE Close</th>\n",
       "    </tr>\n",
       "  </thead>\n",
       "  <tbody>\n",
       "    <tr>\n",
       "      <th>2015-10-08</th>\n",
       "      <td>30.209999</td>\n",
       "    </tr>\n",
       "    <tr>\n",
       "      <th>2015-10-09</th>\n",
       "      <td>30.160000</td>\n",
       "    </tr>\n",
       "    <tr>\n",
       "      <th>2015-10-12</th>\n",
       "      <td>30.350000</td>\n",
       "    </tr>\n",
       "    <tr>\n",
       "      <th>2015-10-13</th>\n",
       "      <td>30.160000</td>\n",
       "    </tr>\n",
       "    <tr>\n",
       "      <th>2015-10-14</th>\n",
       "      <td>30.160000</td>\n",
       "    </tr>\n",
       "    <tr>\n",
       "      <th>...</th>\n",
       "      <td>...</td>\n",
       "    </tr>\n",
       "    <tr>\n",
       "      <th>2021-09-17</th>\n",
       "      <td>46.849998</td>\n",
       "    </tr>\n",
       "    <tr>\n",
       "      <th>2021-09-20</th>\n",
       "      <td>46.270000</td>\n",
       "    </tr>\n",
       "    <tr>\n",
       "      <th>2021-09-21</th>\n",
       "      <td>46.279999</td>\n",
       "    </tr>\n",
       "    <tr>\n",
       "      <th>2021-09-22</th>\n",
       "      <td>46.669998</td>\n",
       "    </tr>\n",
       "    <tr>\n",
       "      <th>2021-09-23</th>\n",
       "      <td>46.439999</td>\n",
       "    </tr>\n",
       "  </tbody>\n",
       "</table>\n",
       "<p>1501 rows × 1 columns</p>\n",
       "</div>"
      ],
      "text/plain": [
       "            XLRE Close\n",
       "2015-10-08   30.209999\n",
       "2015-10-09   30.160000\n",
       "2015-10-12   30.350000\n",
       "2015-10-13   30.160000\n",
       "2015-10-14   30.160000\n",
       "...                ...\n",
       "2021-09-17   46.849998\n",
       "2021-09-20   46.270000\n",
       "2021-09-21   46.279999\n",
       "2021-09-22   46.669998\n",
       "2021-09-23   46.439999\n",
       "\n",
       "[1501 rows x 1 columns]"
      ]
     },
shrutib55
     "execution_count": 10,

     "metadata": {},
     "output_type": "execute_result"
    }
   ],
   "source": [
    "# Pull daily stock data for S&P Real Estate Sector Fund from 2000 through current date\n",
    "# Drop unneeded columns and rename the last column to be specific to this DataFrame\n",
    "XLRE_daily = get_data(\"XLRE\", start_date=\"01/01/2000\", end_date=\"09/24/2021\", index_as_date = True, interval=\"1d\")\n",
    "XLRE_close = XLRE_daily.drop(columns=['open', 'high', 'low', 'adjclose', 'volume', 'ticker']).rename(columns = {'close': 'XLRE Close'})\n",
    "XLRE_close"
   ]
  },
  {
   "cell_type": "code",
shrutib55
   "execution_count": 11,

   "id": "43783e9b-5580-4b3f-8d54-c746f79420aa",
   "metadata": {},
   "outputs": [
    {
     "name": "stdout",
     "output_type": "stream",
     "text": [
      "<class 'pandas.core.frame.DataFrame'>\n",
      "DatetimeIndex: 1501 entries, 2015-10-08 to 2021-09-23\n",
      "Data columns (total 1 columns):\n",
      " #   Column      Non-Null Count  Dtype  \n",
      "---  ------      --------------  -----  \n",
      " 0   XLRE Close  1501 non-null   float64\n",
      "dtypes: float64(1)\n",
      "memory usage: 23.5 KB\n"
     ]
    }
   ],
   "source": [
    "# Confirm data has no null values and is in float format\n",
    "XLRE_close.info()"
   ]
  },
  {
   "cell_type": "code",
shrutib55
   "execution_count": 12,

   "id": "5f13d85a-efe9-4991-9f9f-2061899bea99",
   "metadata": {},
   "outputs": [
    {
     "data": {
      "text/html": [
       "<div>\n",
       "<style scoped>\n",
       "    .dataframe tbody tr th:only-of-type {\n",
       "        vertical-align: middle;\n",
       "    }\n",
       "\n",
       "    .dataframe tbody tr th {\n",
       "        vertical-align: top;\n",
       "    }\n",
       "\n",
       "    .dataframe thead th {\n",
       "        text-align: right;\n",
       "    }\n",
       "</style>\n",
       "<table border=\"1\" class=\"dataframe\">\n",
       "  <thead>\n",
       "    <tr style=\"text-align: right;\">\n",
       "      <th></th>\n",
       "      <th>XLV Close</th>\n",
       "    </tr>\n",
       "  </thead>\n",
       "  <tbody>\n",
       "    <tr>\n",
       "      <th>2000-01-03</th>\n",
       "      <td>30.296875</td>\n",
       "    </tr>\n",
       "    <tr>\n",
       "      <th>2000-01-04</th>\n",
       "      <td>29.609375</td>\n",
       "    </tr>\n",
       "    <tr>\n",
       "      <th>2000-01-05</th>\n",
       "      <td>29.343750</td>\n",
       "    </tr>\n",
       "    <tr>\n",
       "      <th>2000-01-06</th>\n",
       "      <td>29.437500</td>\n",
       "    </tr>\n",
       "    <tr>\n",
       "      <th>2000-01-07</th>\n",
       "      <td>29.796875</td>\n",
       "    </tr>\n",
       "    <tr>\n",
       "      <th>...</th>\n",
       "      <td>...</td>\n",
       "    </tr>\n",
       "    <tr>\n",
       "      <th>2021-09-17</th>\n",
       "      <td>133.000000</td>\n",
       "    </tr>\n",
       "    <tr>\n",
       "      <th>2021-09-20</th>\n",
       "      <td>131.149994</td>\n",
       "    </tr>\n",
       "    <tr>\n",
       "      <th>2021-09-21</th>\n",
       "      <td>131.350006</td>\n",
       "    </tr>\n",
       "    <tr>\n",
       "      <th>2021-09-22</th>\n",
       "      <td>131.570007</td>\n",
       "    </tr>\n",
       "    <tr>\n",
       "      <th>2021-09-23</th>\n",
       "      <td>132.520004</td>\n",
       "    </tr>\n",
       "  </tbody>\n",
       "</table>\n",
       "<p>5467 rows × 1 columns</p>\n",
       "</div>"
      ],
      "text/plain": [
       "             XLV Close\n",
       "2000-01-03   30.296875\n",
       "2000-01-04   29.609375\n",
       "2000-01-05   29.343750\n",
       "2000-01-06   29.437500\n",
       "2000-01-07   29.796875\n",
       "...                ...\n",
       "2021-09-17  133.000000\n",
       "2021-09-20  131.149994\n",
       "2021-09-21  131.350006\n",
       "2021-09-22  131.570007\n",
       "2021-09-23  132.520004\n",
       "\n",
       "[5467 rows x 1 columns]"
      ]
     },
shrutib55
     "execution_count": 12,

     "metadata": {},
     "output_type": "execute_result"
    }
   ],
   "source": [
    "# Pull daily stock data for S&P Health Care Sector Fund from 2000 through current date\n",
    "# Drop unneeded columns and rename the last column to be specific to this DataFrame\n",
    "XLV_daily = get_data(\"XLV\", start_date=\"01/01/2000\", end_date=\"09/24/2021\", index_as_date = True, interval=\"1d\")\n",
    "XLV_close = XLV_daily.drop(columns=['open', 'high', 'low', 'adjclose', 'volume', 'ticker']).rename(columns = {'close': 'XLV Close'})\n",
    "XLV_close"
   ]
  },
  {
   "cell_type": "code",
shrutib55
   "execution_count": 13,

   "id": "e41ebfe6-8d1b-4382-a03e-043a092cf1fa",
   "metadata": {},
   "outputs": [
    {
     "name": "stdout",
     "output_type": "stream",
     "text": [
      "<class 'pandas.core.frame.DataFrame'>\n",
      "DatetimeIndex: 5467 entries, 2000-01-03 to 2021-09-23\n",
      "Data columns (total 1 columns):\n",
      " #   Column     Non-Null Count  Dtype  \n",
      "---  ------     --------------  -----  \n",
      " 0   XLV Close  5467 non-null   float64\n",
      "dtypes: float64(1)\n",
      "memory usage: 85.4 KB\n"
     ]
    }
   ],
   "source": [
    "# Confirm data has no null values and is in float format\n",
    "XLV_close.info()"
   ]
  },
  {
   "cell_type": "code",
shrutib55
   "execution_count": 14,

   "id": "a6c268a3-fa1c-4ff3-aa2e-1d31da03b246",
   "metadata": {},
   "outputs": [
    {
     "data": {
      "text/html": [
       "<div>\n",
       "<style scoped>\n",
       "    .dataframe tbody tr th:only-of-type {\n",
       "        vertical-align: middle;\n",
       "    }\n",
       "\n",
       "    .dataframe tbody tr th {\n",
       "        vertical-align: top;\n",
       "    }\n",
       "\n",
       "    .dataframe thead th {\n",
       "        text-align: right;\n",
       "    }\n",
       "</style>\n",
       "<table border=\"1\" class=\"dataframe\">\n",
       "  <thead>\n",
       "    <tr style=\"text-align: right;\">\n",
       "      <th></th>\n",
       "      <th>XLE Close</th>\n",
       "      <th>XLF Close</th>\n",
       "      <th>XLK Close</th>\n",
       "      <th>XLV Close</th>\n",
       "    </tr>\n",
       "  </thead>\n",
       "  <tbody>\n",
       "    <tr>\n",
       "      <th>2000-01-03</th>\n",
       "      <td>26.562500</td>\n",
       "      <td>18.582453</td>\n",
       "      <td>55.437500</td>\n",
       "      <td>30.296875</td>\n",
       "    </tr>\n",
       "    <tr>\n",
       "      <th>2000-01-04</th>\n",
       "      <td>26.062500</td>\n",
       "      <td>17.770105</td>\n",
       "      <td>52.625000</td>\n",
       "      <td>29.609375</td>\n",
       "    </tr>\n",
       "    <tr>\n",
       "      <th>2000-01-05</th>\n",
       "      <td>26.750000</td>\n",
       "      <td>17.630484</td>\n",
       "      <td>51.843750</td>\n",
       "      <td>29.343750</td>\n",
       "    </tr>\n",
       "    <tr>\n",
       "      <th>2000-01-06</th>\n",
       "      <td>27.781250</td>\n",
       "      <td>18.404753</td>\n",
       "      <td>50.125000</td>\n",
       "      <td>29.437500</td>\n",
       "    </tr>\n",
       "    <tr>\n",
       "      <th>2000-01-07</th>\n",
       "      <td>28.078125</td>\n",
       "      <td>18.709383</td>\n",
       "      <td>51.000000</td>\n",
       "      <td>29.796875</td>\n",
       "    </tr>\n",
       "    <tr>\n",
       "      <th>...</th>\n",
       "      <td>...</td>\n",
       "      <td>...</td>\n",
       "      <td>...</td>\n",
       "      <td>...</td>\n",
       "    </tr>\n",
       "    <tr>\n",
       "      <th>2021-09-17</th>\n",
       "      <td>49.320000</td>\n",
       "      <td>37.580002</td>\n",
       "      <td>155.479996</td>\n",
       "      <td>133.000000</td>\n",
       "    </tr>\n",
       "    <tr>\n",
       "      <th>2021-09-20</th>\n",
       "      <td>47.240002</td>\n",
       "      <td>36.549999</td>\n",
       "      <td>152.380005</td>\n",
       "      <td>131.149994</td>\n",
       "    </tr>\n",
       "    <tr>\n",
       "      <th>2021-09-21</th>\n",
       "      <td>47.349998</td>\n",
       "      <td>36.500000</td>\n",
       "      <td>152.440002</td>\n",
       "      <td>131.350006</td>\n",
       "    </tr>\n",
       "    <tr>\n",
       "      <th>2021-09-22</th>\n",
       "      <td>48.810001</td>\n",
       "      <td>37.110001</td>\n",
       "      <td>154.529999</td>\n",
       "      <td>131.570007</td>\n",
       "    </tr>\n",
       "    <tr>\n",
       "      <th>2021-09-23</th>\n",
       "      <td>50.520000</td>\n",
       "      <td>38.020000</td>\n",
       "      <td>156.600006</td>\n",
       "      <td>132.520004</td>\n",
       "    </tr>\n",
       "  </tbody>\n",
       "</table>\n",
       "<p>5467 rows × 4 columns</p>\n",
       "</div>"
      ],
      "text/plain": [
       "            XLE Close  XLF Close   XLK Close   XLV Close\n",
       "2000-01-03  26.562500  18.582453   55.437500   30.296875\n",
       "2000-01-04  26.062500  17.770105   52.625000   29.609375\n",
       "2000-01-05  26.750000  17.630484   51.843750   29.343750\n",
       "2000-01-06  27.781250  18.404753   50.125000   29.437500\n",
       "2000-01-07  28.078125  18.709383   51.000000   29.796875\n",
       "...               ...        ...         ...         ...\n",
       "2021-09-17  49.320000  37.580002  155.479996  133.000000\n",
       "2021-09-20  47.240002  36.549999  152.380005  131.149994\n",
       "2021-09-21  47.349998  36.500000  152.440002  131.350006\n",
       "2021-09-22  48.810001  37.110001  154.529999  131.570007\n",
       "2021-09-23  50.520000  38.020000  156.600006  132.520004\n",
       "\n",
       "[5467 rows x 4 columns]"
      ]
     },
shrutib55
     "execution_count": 14,

     "metadata": {},
     "output_type": "execute_result"
    }
   ],
   "source": [
    "# Join DataFrames for all S&P500 financial sectors to be analyzed\n",
    "sector_data = pd.concat([XLE_close, XLF_close, XLK_close, XLV_close], axis='columns', join='inner')\n",
    "sector_data.sort_index(inplace=True)\n",
    "sector_data"
   ]
  },
  {
   "cell_type": "code",
shrutib55
   "execution_count": 26,
   "id": "0f380a21-0339-40c0-b7ce-5626878051ae",
   "metadata": {},
   "outputs": [],
   "source": [
    "el21 = sector_data.loc['2021-01-20':'2021-02-03']\n",
    "el17 = sector_data.loc['2017-01-20':'2017-02-03']\n",
    "el13 = sector_data.loc['2013-01-20':'2013-02-03']\n",
    "el09 = sector_data.loc['2009-01-20':'2009-02-03']\n",
    "el05 = sector_data.loc['2005-01-20':'2005-02-03']\n",
    "el01 = sector_data.loc['2001-01-20':'2001-02-03']\n",
    "\n",
    "inauguration_range = pd.concat([el21, el17, el13, el09, el05, el01], axis = 'rows', join= 'inner')"
   ]
  },
  {
   "cell_type": "code",
   "execution_count": 27,
   "id": "624a9ba9-2fd2-47d0-a5c3-e350ba62d50c",
   "metadata": {},
   "outputs": [
    {
     "data": {
      "text/html": [
       "<div>\n",
       "<style scoped>\n",
       "    .dataframe tbody tr th:only-of-type {\n",
       "        vertical-align: middle;\n",
       "    }\n",
       "\n",
       "    .dataframe tbody tr th {\n",
       "        vertical-align: top;\n",
       "    }\n",
       "\n",
       "    .dataframe thead th {\n",
       "        text-align: right;\n",
       "    }\n",
       "</style>\n",
       "<table border=\"1\" class=\"dataframe\">\n",
       "  <thead>\n",
       "    <tr style=\"text-align: right;\">\n",
       "      <th></th>\n",
       "      <th>XLE Close</th>\n",
       "      <th>XLF Close</th>\n",
       "      <th>XLK Close</th>\n",
       "      <th>XLV Close</th>\n",
       "    </tr>\n",
       "  </thead>\n",
       "  <tbody>\n",
       "    <tr>\n",
       "      <th>2021-01-20</th>\n",
       "      <td>43.770000</td>\n",
       "      <td>30.889999</td>\n",
       "      <td>131.639999</td>\n",
       "      <td>118.500000</td>\n",
       "    </tr>\n",
       "    <tr>\n",
       "      <th>2021-01-21</th>\n",
       "      <td>42.290001</td>\n",
       "      <td>30.559999</td>\n",
       "      <td>133.339996</td>\n",
       "      <td>117.940002</td>\n",
       "    </tr>\n",
       "    <tr>\n",
       "      <th>2021-01-22</th>\n",
       "      <td>42.070000</td>\n",
       "      <td>30.340000</td>\n",
       "      <td>132.830002</td>\n",
       "      <td>117.589996</td>\n",
       "    </tr>\n",
       "    <tr>\n",
       "      <th>2021-01-25</th>\n",
       "      <td>41.639999</td>\n",
       "      <td>30.120001</td>\n",
       "      <td>133.940002</td>\n",
       "      <td>118.360001</td>\n",
       "    </tr>\n",
       "    <tr>\n",
       "      <th>2021-01-26</th>\n",
       "      <td>40.750000</td>\n",
       "      <td>29.879999</td>\n",
       "      <td>134.029999</td>\n",
       "      <td>117.919998</td>\n",
       "    </tr>\n",
       "    <tr>\n",
       "      <th>...</th>\n",
       "      <td>...</td>\n",
       "      <td>...</td>\n",
       "      <td>...</td>\n",
       "      <td>...</td>\n",
       "    </tr>\n",
       "    <tr>\n",
       "      <th>2001-01-29</th>\n",
       "      <td>31.520000</td>\n",
       "      <td>23.996752</td>\n",
       "      <td>38.160000</td>\n",
       "      <td>29.459999</td>\n",
       "    </tr>\n",
       "    <tr>\n",
       "      <th>2001-01-30</th>\n",
       "      <td>31.790001</td>\n",
       "      <td>24.207960</td>\n",
       "      <td>38.250000</td>\n",
       "      <td>29.400000</td>\n",
       "    </tr>\n",
       "    <tr>\n",
       "      <th>2001-01-31</th>\n",
       "      <td>32.130001</td>\n",
       "      <td>23.907393</td>\n",
       "      <td>37.299999</td>\n",
       "      <td>29.219999</td>\n",
       "    </tr>\n",
       "    <tr>\n",
       "      <th>2001-02-01</th>\n",
       "      <td>31.719999</td>\n",
       "      <td>23.939886</td>\n",
       "      <td>37.279999</td>\n",
       "      <td>29.610001</td>\n",
       "    </tr>\n",
       "    <tr>\n",
       "      <th>2001-02-02</th>\n",
       "      <td>32.250000</td>\n",
       "      <td>24.004873</td>\n",
       "      <td>35.639999</td>\n",
       "      <td>29.260000</td>\n",
       "    </tr>\n",
       "  </tbody>\n",
       "</table>\n",
       "<p>63 rows × 4 columns</p>\n",
       "</div>"
      ],
      "text/plain": [
       "            XLE Close  XLF Close   XLK Close   XLV Close\n",
       "2021-01-20  43.770000  30.889999  131.639999  118.500000\n",
       "2021-01-21  42.290001  30.559999  133.339996  117.940002\n",
       "2021-01-22  42.070000  30.340000  132.830002  117.589996\n",
       "2021-01-25  41.639999  30.120001  133.940002  118.360001\n",
       "2021-01-26  40.750000  29.879999  134.029999  117.919998\n",
       "...               ...        ...         ...         ...\n",
       "2001-01-29  31.520000  23.996752   38.160000   29.459999\n",
       "2001-01-30  31.790001  24.207960   38.250000   29.400000\n",
       "2001-01-31  32.130001  23.907393   37.299999   29.219999\n",
       "2001-02-01  31.719999  23.939886   37.279999   29.610001\n",
       "2001-02-02  32.250000  24.004873   35.639999   29.260000\n",
       "\n",
       "[63 rows x 4 columns]"
      ]
     },
     "execution_count": 27,
     "metadata": {},
     "output_type": "execute_result"
    }
   ],
   "source": [
    "inauguration_range"
   ]
  },
  {
   "cell_type": "code",
   "execution_count": 28,
   "id": "6749560a-4cf4-463f-8afd-b1ef1d9432c6",
   "metadata": {},
   "outputs": [
    {
     "data": {
      "text/plain": [
       "<seaborn.axisgrid.FacetGrid at 0x7fbbeae35130>"
      ]
     },
     "execution_count": 28,
     "metadata": {},
     "output_type": "execute_result"
    },
    {
     "data": {
      "image/png": "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\n",
      "text/plain": [
       "<Figure size 445.125x360 with 1 Axes>"
      ]
     },
     "metadata": {
      "needs_background": "light"
     },
     "output_type": "display_data"
    }
   ],
   "source": [
    "sns.relplot(data=inauguration_range, kind = 'line')"
   ]
  },
  {
   "cell_type": "code",
   "execution_count": 29,
   "id": "4a40f12a-3574-4e1c-9571-1ecb25322593",
   "metadata": {},
   "outputs": [],
   "source": [
    "pres_election_biden = sector_data.loc['2020-11-3':'2020-11-16']\n",
    "pres_election_trump = sector_data.loc['2016-11-8':'2016-11-21']\n",
    "pres_election_obamab = sector_data.loc['2012-11-6':'2012-11-19']\n",
    "pres_election_obamaa = sector_data.loc['2008-11-4':'2008-11-17']\n",
    "pres_election_bushb = sector_data.loc['2004-11-2':'2004-11-15']\n",
    "pres_election_busha = sector_data.loc['2000-11-4':'2000-11-17']\n",
    "\n",
    "election_range = pd.concat([pres_election_biden, pres_election_trump, pres_election_obamab, pres_election_obamaa, pres_election_bushb, pres_election_busha], axis = 'rows', join= 'inner')"
   ]
  },
  {
   "cell_type": "code",
   "execution_count": 31,
   "id": "ebf8fe87-db88-4442-acc6-e325f19f4773",
   "metadata": {},
   "outputs": [
    {
     "data": {
      "text/plain": [
       "<seaborn.axisgrid.FacetGrid at 0x7fbbeca51490>"
      ]
     },
     "execution_count": 31,
     "metadata": {},
     "output_type": "execute_result"
    },
    {
     "data": {
      "image/png": "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\n",
      "text/plain": [
       "<Figure size 445.125x360 with 1 Axes>"
      ]
     },
     "metadata": {
      "needs_background": "light"
     },
     "output_type": "display_data"
    }
   ],
   "source": [
    "sns.relplot(data=election_range, kind = 'line')"
   ]
  },
  {
   "cell_type": "code",
   "execution_count": null,
   "id": "c732349d-797c-4f71-b4a1-254a44f3d753",
shrutib55
   "display_name": "Python 3 (ipykernel)",

   "language": "python",
   "name": "python3"
  },
  "language_info": {
   "codemirror_mode": {
    "name": "ipython",
    "version": 3
   },
   "file_extension": ".py",
   "mimetype": "text/x-python",
   "name": "python",
   "nbconvert_exporter": "python",
   "pygments_lexer": "ipython3",
shrutib55
   "version": "3.8.8"

  }
 },
 "nbformat": 4,
 "nbformat_minor": 5
}
