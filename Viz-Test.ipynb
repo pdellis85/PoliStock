{
 "cells": [
  {
   "cell_type": "markdown",
   "id": "d1907fd7",
   "metadata": {},
   "source": [
    "# PoliStock Data Gathering"
   ]
  },
  {
   "cell_type": "markdown",
   "id": "d98da7fc",
   "metadata": {},
   "source": [
    "This notebook demonstrates how we used the Yahoo Finance API to pull closing data for four S&P 500 sectors as well as the S&P 500 index as a whole. \n",
    "We pulled the data for each sector and dropped unnecessary columns.  We also checked the data for null values and made sure the formatting was correct. \n",
    "Then we concatenated our dataframes into one and sliced it into time periods that we'll use for our analysis."
   ]
  },
  {
   "cell_type": "code",
   "execution_count": 1,
   "id": "6b1902ed",
   "metadata": {},
   "outputs": [],
   "source": [
    "# Initial imports\n",
    "import os\n",
    "import requests\n",
    "import json\n",
    "import pandas as pd\n",
    "import numpy as np\n",
    "from yahoo_fin.stock_info import get_data\n",
    "import yahoo_fin.stock_info as si\n",
    "import seaborn as sns\n",
    "\n",
    "%matplotlib inline"
   ]
  },
  {
   "cell_type": "markdown",
   "id": "000abcc0",
   "metadata": {},
   "source": [
    "### Use Yahoo Finance API to pull stock data from four S&P 500 sectors - Energy (XLE), Finance (XLF), Technology (XLK), Healthcare (XLV) - and the S&P 500 index"
   ]
  },
  {
   "cell_type": "code",
   "execution_count": 2,
   "id": "56e698a7",
   "metadata": {},
   "outputs": [
    {
     "data": {
      "text/html": [
       "<div>\n",
       "<style scoped>\n",
       "    .dataframe tbody tr th:only-of-type {\n",
       "        vertical-align: middle;\n",
       "    }\n",
       "\n",
       "    .dataframe tbody tr th {\n",
       "        vertical-align: top;\n",
       "    }\n",
       "\n",
       "    .dataframe thead th {\n",
       "        text-align: right;\n",
       "    }\n",
       "</style>\n",
       "<table border=\"1\" class=\"dataframe\">\n",
       "  <thead>\n",
       "    <tr style=\"text-align: right;\">\n",
       "      <th></th>\n",
       "      <th>open</th>\n",
       "      <th>high</th>\n",
       "      <th>low</th>\n",
       "      <th>close</th>\n",
       "      <th>adjclose</th>\n",
       "      <th>volume</th>\n",
       "      <th>ticker</th>\n",
       "    </tr>\n",
       "  </thead>\n",
       "  <tbody>\n",
       "    <tr>\n",
       "      <th>2000-01-03</th>\n",
       "      <td>27.312500</td>\n",
       "      <td>27.312500</td>\n",
       "      <td>26.375000</td>\n",
       "      <td>26.562500</td>\n",
       "      <td>15.663605</td>\n",
       "      <td>380300</td>\n",
       "      <td>XLE</td>\n",
       "    </tr>\n",
       "    <tr>\n",
       "      <th>2000-01-04</th>\n",
       "      <td>26.312500</td>\n",
       "      <td>26.312500</td>\n",
       "      <td>25.875000</td>\n",
       "      <td>26.062500</td>\n",
       "      <td>15.368750</td>\n",
       "      <td>722200</td>\n",
       "      <td>XLE</td>\n",
       "    </tr>\n",
       "    <tr>\n",
       "      <th>2000-01-05</th>\n",
       "      <td>26.125000</td>\n",
       "      <td>26.750000</td>\n",
       "      <td>26.000000</td>\n",
       "      <td>26.750000</td>\n",
       "      <td>15.774166</td>\n",
       "      <td>337800</td>\n",
       "      <td>XLE</td>\n",
       "    </tr>\n",
       "    <tr>\n",
       "      <th>2000-01-06</th>\n",
       "      <td>26.750000</td>\n",
       "      <td>27.843750</td>\n",
       "      <td>26.750000</td>\n",
       "      <td>27.781250</td>\n",
       "      <td>16.382280</td>\n",
       "      <td>133100</td>\n",
       "      <td>XLE</td>\n",
       "    </tr>\n",
       "    <tr>\n",
       "      <th>2000-01-07</th>\n",
       "      <td>27.687500</td>\n",
       "      <td>28.406250</td>\n",
       "      <td>27.687500</td>\n",
       "      <td>28.078125</td>\n",
       "      <td>16.557346</td>\n",
       "      <td>468000</td>\n",
       "      <td>XLE</td>\n",
       "    </tr>\n",
       "    <tr>\n",
       "      <th>...</th>\n",
       "      <td>...</td>\n",
       "      <td>...</td>\n",
       "      <td>...</td>\n",
       "      <td>...</td>\n",
       "      <td>...</td>\n",
       "      <td>...</td>\n",
       "      <td>...</td>\n",
       "    </tr>\n",
       "    <tr>\n",
       "      <th>2021-09-17</th>\n",
       "      <td>49.439999</td>\n",
       "      <td>50.220001</td>\n",
       "      <td>49.189999</td>\n",
       "      <td>49.320000</td>\n",
       "      <td>48.728001</td>\n",
       "      <td>32229500</td>\n",
       "      <td>XLE</td>\n",
       "    </tr>\n",
       "    <tr>\n",
       "      <th>2021-09-20</th>\n",
       "      <td>47.549999</td>\n",
       "      <td>47.810001</td>\n",
       "      <td>46.470001</td>\n",
       "      <td>47.240002</td>\n",
       "      <td>47.240002</td>\n",
       "      <td>42830000</td>\n",
       "      <td>XLE</td>\n",
       "    </tr>\n",
       "    <tr>\n",
       "      <th>2021-09-21</th>\n",
       "      <td>47.799999</td>\n",
       "      <td>48.049999</td>\n",
       "      <td>46.849998</td>\n",
       "      <td>47.349998</td>\n",
       "      <td>47.349998</td>\n",
       "      <td>25661700</td>\n",
       "      <td>XLE</td>\n",
       "    </tr>\n",
       "    <tr>\n",
       "      <th>2021-09-22</th>\n",
       "      <td>48.150002</td>\n",
       "      <td>49.380001</td>\n",
       "      <td>48.150002</td>\n",
       "      <td>48.810001</td>\n",
       "      <td>48.810001</td>\n",
       "      <td>39626100</td>\n",
       "      <td>XLE</td>\n",
       "    </tr>\n",
       "    <tr>\n",
       "      <th>2021-09-23</th>\n",
       "      <td>49.080002</td>\n",
       "      <td>50.669998</td>\n",
       "      <td>48.849998</td>\n",
       "      <td>50.520000</td>\n",
       "      <td>50.520000</td>\n",
       "      <td>24867100</td>\n",
       "      <td>XLE</td>\n",
       "    </tr>\n",
       "  </tbody>\n",
       "</table>\n",
       "<p>5467 rows × 7 columns</p>\n",
       "</div>"
      ],
      "text/plain": [
       "                 open       high        low      close   adjclose    volume  \\\n",
       "2000-01-03  27.312500  27.312500  26.375000  26.562500  15.663605    380300   \n",
       "2000-01-04  26.312500  26.312500  25.875000  26.062500  15.368750    722200   \n",
       "2000-01-05  26.125000  26.750000  26.000000  26.750000  15.774166    337800   \n",
       "2000-01-06  26.750000  27.843750  26.750000  27.781250  16.382280    133100   \n",
       "2000-01-07  27.687500  28.406250  27.687500  28.078125  16.557346    468000   \n",
       "...               ...        ...        ...        ...        ...       ...   \n",
       "2021-09-17  49.439999  50.220001  49.189999  49.320000  48.728001  32229500   \n",
       "2021-09-20  47.549999  47.810001  46.470001  47.240002  47.240002  42830000   \n",
       "2021-09-21  47.799999  48.049999  46.849998  47.349998  47.349998  25661700   \n",
       "2021-09-22  48.150002  49.380001  48.150002  48.810001  48.810001  39626100   \n",
       "2021-09-23  49.080002  50.669998  48.849998  50.520000  50.520000  24867100   \n",
       "\n",
       "           ticker  \n",
       "2000-01-03    XLE  \n",
       "2000-01-04    XLE  \n",
       "2000-01-05    XLE  \n",
       "2000-01-06    XLE  \n",
       "2000-01-07    XLE  \n",
       "...           ...  \n",
       "2021-09-17    XLE  \n",
       "2021-09-20    XLE  \n",
       "2021-09-21    XLE  \n",
       "2021-09-22    XLE  \n",
       "2021-09-23    XLE  \n",
       "\n",
       "[5467 rows x 7 columns]"
      ]
     },
     "execution_count": 2,
     "metadata": {},
     "output_type": "execute_result"
    }
   ],
   "source": [
    "# Pull daily stock data for S&P Energy Sector Fund from 2000 through current date\n",
    "XLE_daily = get_data(\"XLE\", start_date=\"01/01/2000\", end_date=\"09/24/2021\", index_as_date = True, interval=\"1d\")\n",
    "XLE_daily"
   ]
  },
  {
   "cell_type": "code",
   "execution_count": 3,
   "id": "07cb2369",
   "metadata": {},
   "outputs": [
    {
     "data": {
      "text/html": [
       "<div>\n",
       "<style scoped>\n",
       "    .dataframe tbody tr th:only-of-type {\n",
       "        vertical-align: middle;\n",
       "    }\n",
       "\n",
       "    .dataframe tbody tr th {\n",
       "        vertical-align: top;\n",
       "    }\n",
       "\n",
       "    .dataframe thead th {\n",
       "        text-align: right;\n",
       "    }\n",
       "</style>\n",
       "<table border=\"1\" class=\"dataframe\">\n",
       "  <thead>\n",
       "    <tr style=\"text-align: right;\">\n",
       "      <th></th>\n",
       "      <th>XLE Close</th>\n",
       "    </tr>\n",
       "  </thead>\n",
       "  <tbody>\n",
       "    <tr>\n",
       "      <th>2000-01-03</th>\n",
       "      <td>26.562500</td>\n",
       "    </tr>\n",
       "    <tr>\n",
       "      <th>2000-01-04</th>\n",
       "      <td>26.062500</td>\n",
       "    </tr>\n",
       "    <tr>\n",
       "      <th>2000-01-05</th>\n",
       "      <td>26.750000</td>\n",
       "    </tr>\n",
       "    <tr>\n",
       "      <th>2000-01-06</th>\n",
       "      <td>27.781250</td>\n",
       "    </tr>\n",
       "    <tr>\n",
       "      <th>2000-01-07</th>\n",
       "      <td>28.078125</td>\n",
       "    </tr>\n",
       "    <tr>\n",
       "      <th>...</th>\n",
       "      <td>...</td>\n",
       "    </tr>\n",
       "    <tr>\n",
       "      <th>2021-09-17</th>\n",
       "      <td>49.320000</td>\n",
       "    </tr>\n",
       "    <tr>\n",
       "      <th>2021-09-20</th>\n",
       "      <td>47.240002</td>\n",
       "    </tr>\n",
       "    <tr>\n",
       "      <th>2021-09-21</th>\n",
       "      <td>47.349998</td>\n",
       "    </tr>\n",
       "    <tr>\n",
       "      <th>2021-09-22</th>\n",
       "      <td>48.810001</td>\n",
       "    </tr>\n",
       "    <tr>\n",
       "      <th>2021-09-23</th>\n",
       "      <td>50.520000</td>\n",
       "    </tr>\n",
       "  </tbody>\n",
       "</table>\n",
       "<p>5467 rows × 1 columns</p>\n",
       "</div>"
      ],
      "text/plain": [
       "            XLE Close\n",
       "2000-01-03  26.562500\n",
       "2000-01-04  26.062500\n",
       "2000-01-05  26.750000\n",
       "2000-01-06  27.781250\n",
       "2000-01-07  28.078125\n",
       "...               ...\n",
       "2021-09-17  49.320000\n",
       "2021-09-20  47.240002\n",
       "2021-09-21  47.349998\n",
       "2021-09-22  48.810001\n",
       "2021-09-23  50.520000\n",
       "\n",
       "[5467 rows x 1 columns]"
      ]
     },
     "execution_count": 3,
     "metadata": {},
     "output_type": "execute_result"
    }
   ],
   "source": [
    "# Drop unneeded columns and rename the last column to be specific to this DataFrame\n",
    "XLE_close = XLE_daily.drop(columns=['open', 'high', 'low', 'adjclose', 'volume', 'ticker']).rename(columns = {'close': 'XLE Close'})\n",
    "XLE_close"
   ]
  },
  {
   "cell_type": "code",
   "execution_count": 4,
   "id": "3d47a8e8",
   "metadata": {},
   "outputs": [
    {
     "name": "stdout",
     "output_type": "stream",
     "text": [
      "<class 'pandas.core.frame.DataFrame'>\n",
      "DatetimeIndex: 5467 entries, 2000-01-03 to 2021-09-23\n",
      "Data columns (total 1 columns):\n",
      " #   Column     Non-Null Count  Dtype  \n",
      "---  ------     --------------  -----  \n",
      " 0   XLE Close  5467 non-null   float64\n",
      "dtypes: float64(1)\n",
      "memory usage: 85.4 KB\n"
     ]
    }
   ],
   "source": [
    "# Confirm data has no null values and is in float format\n",
    "XLE_close.info()"
   ]
  },
  {
   "cell_type": "code",
   "execution_count": 5,
   "id": "f0f652b4",
   "metadata": {},
   "outputs": [
    {
     "data": {
      "text/html": [
       "<div>\n",
       "<style scoped>\n",
       "    .dataframe tbody tr th:only-of-type {\n",
       "        vertical-align: middle;\n",
       "    }\n",
       "\n",
       "    .dataframe tbody tr th {\n",
       "        vertical-align: top;\n",
       "    }\n",
       "\n",
       "    .dataframe thead th {\n",
       "        text-align: right;\n",
       "    }\n",
       "</style>\n",
       "<table border=\"1\" class=\"dataframe\">\n",
       "  <thead>\n",
       "    <tr style=\"text-align: right;\">\n",
       "      <th></th>\n",
       "      <th>XLF Close</th>\n",
       "    </tr>\n",
       "  </thead>\n",
       "  <tbody>\n",
       "    <tr>\n",
       "      <th>2000-01-03</th>\n",
       "      <td>18.582453</td>\n",
       "    </tr>\n",
       "    <tr>\n",
       "      <th>2000-01-04</th>\n",
       "      <td>17.770105</td>\n",
       "    </tr>\n",
       "    <tr>\n",
       "      <th>2000-01-05</th>\n",
       "      <td>17.630484</td>\n",
       "    </tr>\n",
       "    <tr>\n",
       "      <th>2000-01-06</th>\n",
       "      <td>18.404753</td>\n",
       "    </tr>\n",
       "    <tr>\n",
       "      <th>2000-01-07</th>\n",
       "      <td>18.709383</td>\n",
       "    </tr>\n",
       "    <tr>\n",
       "      <th>...</th>\n",
       "      <td>...</td>\n",
       "    </tr>\n",
       "    <tr>\n",
       "      <th>2021-09-17</th>\n",
       "      <td>37.580002</td>\n",
       "    </tr>\n",
       "    <tr>\n",
       "      <th>2021-09-20</th>\n",
       "      <td>36.549999</td>\n",
       "    </tr>\n",
       "    <tr>\n",
       "      <th>2021-09-21</th>\n",
       "      <td>36.500000</td>\n",
       "    </tr>\n",
       "    <tr>\n",
       "      <th>2021-09-22</th>\n",
       "      <td>37.110001</td>\n",
       "    </tr>\n",
       "    <tr>\n",
       "      <th>2021-09-23</th>\n",
       "      <td>38.020000</td>\n",
       "    </tr>\n",
       "  </tbody>\n",
       "</table>\n",
       "<p>5467 rows × 1 columns</p>\n",
       "</div>"
      ],
      "text/plain": [
       "            XLF Close\n",
       "2000-01-03  18.582453\n",
       "2000-01-04  17.770105\n",
       "2000-01-05  17.630484\n",
       "2000-01-06  18.404753\n",
       "2000-01-07  18.709383\n",
       "...               ...\n",
       "2021-09-17  37.580002\n",
       "2021-09-20  36.549999\n",
       "2021-09-21  36.500000\n",
       "2021-09-22  37.110001\n",
       "2021-09-23  38.020000\n",
       "\n",
       "[5467 rows x 1 columns]"
      ]
     },
     "execution_count": 5,
     "metadata": {},
     "output_type": "execute_result"
    }
   ],
   "source": [
    "# Pull daily stock data for S&P Financial Sector Fund from 2000 through current date\n",
    "# Drop unneeded columns and rename the last column to be specific to this DataFrame\n",
    "XLF_daily = get_data(\"XLF\", start_date=\"01/01/2000\", end_date=\"09/24/2021\", index_as_date = True, interval=\"1d\")\n",
    "XLF_close = XLF_daily.drop(columns=['open', 'high', 'low', 'adjclose', 'volume', 'ticker']).rename(columns = {'close': 'XLF Close'})\n",
    "XLF_close"
   ]
  },
  {
   "cell_type": "code",
   "execution_count": 6,
   "id": "db8d9c04",
   "metadata": {},
   "outputs": [
    {
     "name": "stdout",
     "output_type": "stream",
     "text": [
      "<class 'pandas.core.frame.DataFrame'>\n",
      "DatetimeIndex: 5467 entries, 2000-01-03 to 2021-09-23\n",
      "Data columns (total 1 columns):\n",
      " #   Column     Non-Null Count  Dtype  \n",
      "---  ------     --------------  -----  \n",
      " 0   XLF Close  5467 non-null   float64\n",
      "dtypes: float64(1)\n",
      "memory usage: 85.4 KB\n"
     ]
    }
   ],
   "source": [
    "# Confirm data has no null values and is in float format\n",
    "XLF_close.info()"
   ]
  },
  {
   "cell_type": "code",
   "execution_count": 7,
   "id": "8f5ebbbc",
   "metadata": {},
   "outputs": [
    {
     "data": {
      "text/html": [
       "<div>\n",
       "<style scoped>\n",
       "    .dataframe tbody tr th:only-of-type {\n",
       "        vertical-align: middle;\n",
       "    }\n",
       "\n",
       "    .dataframe tbody tr th {\n",
       "        vertical-align: top;\n",
       "    }\n",
       "\n",
       "    .dataframe thead th {\n",
       "        text-align: right;\n",
       "    }\n",
       "</style>\n",
       "<table border=\"1\" class=\"dataframe\">\n",
       "  <thead>\n",
       "    <tr style=\"text-align: right;\">\n",
       "      <th></th>\n",
       "      <th>XLK Close</th>\n",
       "    </tr>\n",
       "  </thead>\n",
       "  <tbody>\n",
       "    <tr>\n",
       "      <th>2000-01-03</th>\n",
       "      <td>55.437500</td>\n",
       "    </tr>\n",
       "    <tr>\n",
       "      <th>2000-01-04</th>\n",
       "      <td>52.625000</td>\n",
       "    </tr>\n",
       "    <tr>\n",
       "      <th>2000-01-05</th>\n",
       "      <td>51.843750</td>\n",
       "    </tr>\n",
       "    <tr>\n",
       "      <th>2000-01-06</th>\n",
       "      <td>50.125000</td>\n",
       "    </tr>\n",
       "    <tr>\n",
       "      <th>2000-01-07</th>\n",
       "      <td>51.000000</td>\n",
       "    </tr>\n",
       "    <tr>\n",
       "      <th>...</th>\n",
       "      <td>...</td>\n",
       "    </tr>\n",
       "    <tr>\n",
       "      <th>2021-09-17</th>\n",
       "      <td>155.479996</td>\n",
       "    </tr>\n",
       "    <tr>\n",
       "      <th>2021-09-20</th>\n",
       "      <td>152.380005</td>\n",
       "    </tr>\n",
       "    <tr>\n",
       "      <th>2021-09-21</th>\n",
       "      <td>152.440002</td>\n",
       "    </tr>\n",
       "    <tr>\n",
       "      <th>2021-09-22</th>\n",
       "      <td>154.529999</td>\n",
       "    </tr>\n",
       "    <tr>\n",
       "      <th>2021-09-23</th>\n",
       "      <td>156.600006</td>\n",
       "    </tr>\n",
       "  </tbody>\n",
       "</table>\n",
       "<p>5467 rows × 1 columns</p>\n",
       "</div>"
      ],
      "text/plain": [
       "             XLK Close\n",
       "2000-01-03   55.437500\n",
       "2000-01-04   52.625000\n",
       "2000-01-05   51.843750\n",
       "2000-01-06   50.125000\n",
       "2000-01-07   51.000000\n",
       "...                ...\n",
       "2021-09-17  155.479996\n",
       "2021-09-20  152.380005\n",
       "2021-09-21  152.440002\n",
       "2021-09-22  154.529999\n",
       "2021-09-23  156.600006\n",
       "\n",
       "[5467 rows x 1 columns]"
      ]
     },
     "execution_count": 7,
     "metadata": {},
     "output_type": "execute_result"
    }
   ],
   "source": [
    "# Pull daily stock data for S&P Technology Sector Fund from 2000 through current date\n",
    "# Drop unneeded columns and rename the last column to be specific to this DataFrame\n",
    "XLK_daily = get_data(\"XLK\", start_date=\"01/01/2000\", end_date=\"09/24/2021\", index_as_date = True, interval=\"1d\")\n",
    "XLK_close = XLK_daily.drop(columns=['open', 'high', 'low', 'adjclose', 'volume', 'ticker']).rename(columns = {'close': 'XLK Close'})\n",
    "XLK_close"
   ]
  },
  {
   "cell_type": "code",
   "execution_count": 8,
   "id": "aca7a28e",
   "metadata": {},
   "outputs": [
    {
     "name": "stdout",
     "output_type": "stream",
     "text": [
      "<class 'pandas.core.frame.DataFrame'>\n",
      "DatetimeIndex: 5467 entries, 2000-01-03 to 2021-09-23\n",
      "Data columns (total 1 columns):\n",
      " #   Column     Non-Null Count  Dtype  \n",
      "---  ------     --------------  -----  \n",
      " 0   XLK Close  5467 non-null   float64\n",
      "dtypes: float64(1)\n",
      "memory usage: 85.4 KB\n"
     ]
    }
   ],
   "source": [
    "# Confirm data has no null values and is in float format\n",
    "XLK_close.info()"
   ]
  },
  {
   "cell_type": "code",
   "execution_count": 9,
   "id": "7bdcd06a",
   "metadata": {},
   "outputs": [
    {
     "data": {
      "text/html": [
       "<div>\n",
       "<style scoped>\n",
       "    .dataframe tbody tr th:only-of-type {\n",
       "        vertical-align: middle;\n",
       "    }\n",
       "\n",
       "    .dataframe tbody tr th {\n",
       "        vertical-align: top;\n",
       "    }\n",
       "\n",
       "    .dataframe thead th {\n",
       "        text-align: right;\n",
       "    }\n",
       "</style>\n",
       "<table border=\"1\" class=\"dataframe\">\n",
       "  <thead>\n",
       "    <tr style=\"text-align: right;\">\n",
       "      <th></th>\n",
       "      <th>XLV Close</th>\n",
       "    </tr>\n",
       "  </thead>\n",
       "  <tbody>\n",
       "    <tr>\n",
       "      <th>2000-01-03</th>\n",
       "      <td>30.296875</td>\n",
       "    </tr>\n",
       "    <tr>\n",
       "      <th>2000-01-04</th>\n",
       "      <td>29.609375</td>\n",
       "    </tr>\n",
       "    <tr>\n",
       "      <th>2000-01-05</th>\n",
       "      <td>29.343750</td>\n",
       "    </tr>\n",
       "    <tr>\n",
       "      <th>2000-01-06</th>\n",
       "      <td>29.437500</td>\n",
       "    </tr>\n",
       "    <tr>\n",
       "      <th>2000-01-07</th>\n",
       "      <td>29.796875</td>\n",
       "    </tr>\n",
       "    <tr>\n",
       "      <th>...</th>\n",
       "      <td>...</td>\n",
       "    </tr>\n",
       "    <tr>\n",
       "      <th>2021-09-17</th>\n",
       "      <td>133.000000</td>\n",
       "    </tr>\n",
       "    <tr>\n",
       "      <th>2021-09-20</th>\n",
       "      <td>131.149994</td>\n",
       "    </tr>\n",
       "    <tr>\n",
       "      <th>2021-09-21</th>\n",
       "      <td>131.350006</td>\n",
       "    </tr>\n",
       "    <tr>\n",
       "      <th>2021-09-22</th>\n",
       "      <td>131.570007</td>\n",
       "    </tr>\n",
       "    <tr>\n",
       "      <th>2021-09-23</th>\n",
       "      <td>132.520004</td>\n",
       "    </tr>\n",
       "  </tbody>\n",
       "</table>\n",
       "<p>5467 rows × 1 columns</p>\n",
       "</div>"
      ],
      "text/plain": [
       "             XLV Close\n",
       "2000-01-03   30.296875\n",
       "2000-01-04   29.609375\n",
       "2000-01-05   29.343750\n",
       "2000-01-06   29.437500\n",
       "2000-01-07   29.796875\n",
       "...                ...\n",
       "2021-09-17  133.000000\n",
       "2021-09-20  131.149994\n",
       "2021-09-21  131.350006\n",
       "2021-09-22  131.570007\n",
       "2021-09-23  132.520004\n",
       "\n",
       "[5467 rows x 1 columns]"
      ]
     },
     "execution_count": 9,
     "metadata": {},
     "output_type": "execute_result"
    }
   ],
   "source": [
    "# Pull daily stock data for S&P Health Care Sector Fund from 2000 through current date\n",
    "# Drop unneeded columns and rename the last column to be specific to this DataFrame\n",
    "XLV_daily = get_data(\"XLV\", start_date=\"01/01/2000\", end_date=\"09/24/2021\", index_as_date = True, interval=\"1d\")\n",
    "XLV_close = XLV_daily.drop(columns=['open', 'high', 'low', 'adjclose', 'volume', 'ticker']).rename(columns = {'close': 'XLV Close'})\n",
    "XLV_close"
   ]
  },
  {
   "cell_type": "code",
   "execution_count": 10,
   "id": "0acf93fb",
   "metadata": {},
   "outputs": [
    {
     "name": "stdout",
     "output_type": "stream",
     "text": [
      "<class 'pandas.core.frame.DataFrame'>\n",
      "DatetimeIndex: 5467 entries, 2000-01-03 to 2021-09-23\n",
      "Data columns (total 1 columns):\n",
      " #   Column     Non-Null Count  Dtype  \n",
      "---  ------     --------------  -----  \n",
      " 0   XLV Close  5467 non-null   float64\n",
      "dtypes: float64(1)\n",
      "memory usage: 85.4 KB\n"
     ]
    }
   ],
   "source": [
    "# Confirm data has no null values and is in float format\n",
    "XLV_close.info()"
   ]
  },
  {
   "cell_type": "code",
   "execution_count": 11,
   "id": "468c2377",
   "metadata": {},
   "outputs": [
    {
     "data": {
      "text/html": [
       "<div>\n",
       "<style scoped>\n",
       "    .dataframe tbody tr th:only-of-type {\n",
       "        vertical-align: middle;\n",
       "    }\n",
       "\n",
       "    .dataframe tbody tr th {\n",
       "        vertical-align: top;\n",
       "    }\n",
       "\n",
       "    .dataframe thead th {\n",
       "        text-align: right;\n",
       "    }\n",
       "</style>\n",
       "<table border=\"1\" class=\"dataframe\">\n",
       "  <thead>\n",
       "    <tr style=\"text-align: right;\">\n",
       "      <th></th>\n",
       "      <th>SPY Close</th>\n",
       "    </tr>\n",
       "  </thead>\n",
       "  <tbody>\n",
       "    <tr>\n",
       "      <th>2000-01-03</th>\n",
       "      <td>145.437500</td>\n",
       "    </tr>\n",
       "    <tr>\n",
       "      <th>2000-01-04</th>\n",
       "      <td>139.750000</td>\n",
       "    </tr>\n",
       "    <tr>\n",
       "      <th>2000-01-05</th>\n",
       "      <td>140.000000</td>\n",
       "    </tr>\n",
       "    <tr>\n",
       "      <th>2000-01-06</th>\n",
       "      <td>137.750000</td>\n",
       "    </tr>\n",
       "    <tr>\n",
       "      <th>2000-01-07</th>\n",
       "      <td>145.750000</td>\n",
       "    </tr>\n",
       "    <tr>\n",
       "      <th>...</th>\n",
       "      <td>...</td>\n",
       "    </tr>\n",
       "    <tr>\n",
       "      <th>2021-09-17</th>\n",
       "      <td>441.399994</td>\n",
       "    </tr>\n",
       "    <tr>\n",
       "      <th>2021-09-20</th>\n",
       "      <td>434.040009</td>\n",
       "    </tr>\n",
       "    <tr>\n",
       "      <th>2021-09-21</th>\n",
       "      <td>433.630005</td>\n",
       "    </tr>\n",
       "    <tr>\n",
       "      <th>2021-09-22</th>\n",
       "      <td>437.859985</td>\n",
       "    </tr>\n",
       "    <tr>\n",
       "      <th>2021-09-23</th>\n",
       "      <td>443.179993</td>\n",
       "    </tr>\n",
       "  </tbody>\n",
       "</table>\n",
       "<p>5467 rows × 1 columns</p>\n",
       "</div>"
      ],
      "text/plain": [
       "             SPY Close\n",
       "2000-01-03  145.437500\n",
       "2000-01-04  139.750000\n",
       "2000-01-05  140.000000\n",
       "2000-01-06  137.750000\n",
       "2000-01-07  145.750000\n",
       "...                ...\n",
       "2021-09-17  441.399994\n",
       "2021-09-20  434.040009\n",
       "2021-09-21  433.630005\n",
       "2021-09-22  437.859985\n",
       "2021-09-23  443.179993\n",
       "\n",
       "[5467 rows x 1 columns]"
      ]
     },
     "execution_count": 11,
     "metadata": {},
     "output_type": "execute_result"
    }
   ],
   "source": [
    "# Pull daily stock data for S&P 500 Index from 2000 through current date\n",
    "# Drop unneeded columns and rename the last column to be specific to this DataFrame\n",
    "spy_daily = get_data(\"spy\", start_date=\"01/01/2000\", end_date=\"09/24/2021\", index_as_date = True, interval=\"1d\")\n",
    "spy_close = spy_daily.drop(columns=['open', 'high', 'low', 'adjclose', 'volume', 'ticker']).rename(columns = {'close': 'SPY Close'})\n",
    "spy_close"
   ]
  },
  {
   "cell_type": "code",
   "execution_count": 12,
   "id": "6c21c0a2",
   "metadata": {},
   "outputs": [
    {
     "name": "stdout",
     "output_type": "stream",
     "text": [
      "<class 'pandas.core.frame.DataFrame'>\n",
      "DatetimeIndex: 5467 entries, 2000-01-03 to 2021-09-23\n",
      "Data columns (total 1 columns):\n",
      " #   Column     Non-Null Count  Dtype  \n",
      "---  ------     --------------  -----  \n",
      " 0   SPY Close  5467 non-null   float64\n",
      "dtypes: float64(1)\n",
      "memory usage: 85.4 KB\n"
     ]
    }
   ],
   "source": [
    "# Confirm data has no null values and is in float format\n",
    "spy_close.info()"
   ]
  },
  {
   "cell_type": "code",
   "execution_count": 13,
   "id": "b42f95da",
   "metadata": {},
   "outputs": [
    {
     "data": {
      "text/html": [
       "<div>\n",
       "<style scoped>\n",
       "    .dataframe tbody tr th:only-of-type {\n",
       "        vertical-align: middle;\n",
       "    }\n",
       "\n",
       "    .dataframe tbody tr th {\n",
       "        vertical-align: top;\n",
       "    }\n",
       "\n",
       "    .dataframe thead th {\n",
       "        text-align: right;\n",
       "    }\n",
       "</style>\n",
       "<table border=\"1\" class=\"dataframe\">\n",
       "  <thead>\n",
       "    <tr style=\"text-align: right;\">\n",
       "      <th></th>\n",
       "      <th>XLE Close</th>\n",
       "      <th>XLF Close</th>\n",
       "      <th>XLK Close</th>\n",
       "      <th>XLV Close</th>\n",
       "      <th>SPY Close</th>\n",
       "    </tr>\n",
       "  </thead>\n",
       "  <tbody>\n",
       "    <tr>\n",
       "      <th>2000-01-03</th>\n",
       "      <td>26.562500</td>\n",
       "      <td>18.582453</td>\n",
       "      <td>55.437500</td>\n",
       "      <td>30.296875</td>\n",
       "      <td>145.437500</td>\n",
       "    </tr>\n",
       "    <tr>\n",
       "      <th>2000-01-04</th>\n",
       "      <td>26.062500</td>\n",
       "      <td>17.770105</td>\n",
       "      <td>52.625000</td>\n",
       "      <td>29.609375</td>\n",
       "      <td>139.750000</td>\n",
       "    </tr>\n",
       "    <tr>\n",
       "      <th>2000-01-05</th>\n",
       "      <td>26.750000</td>\n",
       "      <td>17.630484</td>\n",
       "      <td>51.843750</td>\n",
       "      <td>29.343750</td>\n",
       "      <td>140.000000</td>\n",
       "    </tr>\n",
       "    <tr>\n",
       "      <th>2000-01-06</th>\n",
       "      <td>27.781250</td>\n",
       "      <td>18.404753</td>\n",
       "      <td>50.125000</td>\n",
       "      <td>29.437500</td>\n",
       "      <td>137.750000</td>\n",
       "    </tr>\n",
       "    <tr>\n",
       "      <th>2000-01-07</th>\n",
       "      <td>28.078125</td>\n",
       "      <td>18.709383</td>\n",
       "      <td>51.000000</td>\n",
       "      <td>29.796875</td>\n",
       "      <td>145.750000</td>\n",
       "    </tr>\n",
       "    <tr>\n",
       "      <th>...</th>\n",
       "      <td>...</td>\n",
       "      <td>...</td>\n",
       "      <td>...</td>\n",
       "      <td>...</td>\n",
       "      <td>...</td>\n",
       "    </tr>\n",
       "    <tr>\n",
       "      <th>2021-09-17</th>\n",
       "      <td>49.320000</td>\n",
       "      <td>37.580002</td>\n",
       "      <td>155.479996</td>\n",
       "      <td>133.000000</td>\n",
       "      <td>441.399994</td>\n",
       "    </tr>\n",
       "    <tr>\n",
       "      <th>2021-09-20</th>\n",
       "      <td>47.240002</td>\n",
       "      <td>36.549999</td>\n",
       "      <td>152.380005</td>\n",
       "      <td>131.149994</td>\n",
       "      <td>434.040009</td>\n",
       "    </tr>\n",
       "    <tr>\n",
       "      <th>2021-09-21</th>\n",
       "      <td>47.349998</td>\n",
       "      <td>36.500000</td>\n",
       "      <td>152.440002</td>\n",
       "      <td>131.350006</td>\n",
       "      <td>433.630005</td>\n",
       "    </tr>\n",
       "    <tr>\n",
       "      <th>2021-09-22</th>\n",
       "      <td>48.810001</td>\n",
       "      <td>37.110001</td>\n",
       "      <td>154.529999</td>\n",
       "      <td>131.570007</td>\n",
       "      <td>437.859985</td>\n",
       "    </tr>\n",
       "    <tr>\n",
       "      <th>2021-09-23</th>\n",
       "      <td>50.520000</td>\n",
       "      <td>38.020000</td>\n",
       "      <td>156.600006</td>\n",
       "      <td>132.520004</td>\n",
       "      <td>443.179993</td>\n",
       "    </tr>\n",
       "  </tbody>\n",
       "</table>\n",
       "<p>5467 rows × 5 columns</p>\n",
       "</div>"
      ],
      "text/plain": [
       "            XLE Close  XLF Close   XLK Close   XLV Close   SPY Close\n",
       "2000-01-03  26.562500  18.582453   55.437500   30.296875  145.437500\n",
       "2000-01-04  26.062500  17.770105   52.625000   29.609375  139.750000\n",
       "2000-01-05  26.750000  17.630484   51.843750   29.343750  140.000000\n",
       "2000-01-06  27.781250  18.404753   50.125000   29.437500  137.750000\n",
       "2000-01-07  28.078125  18.709383   51.000000   29.796875  145.750000\n",
       "...               ...        ...         ...         ...         ...\n",
       "2021-09-17  49.320000  37.580002  155.479996  133.000000  441.399994\n",
       "2021-09-20  47.240002  36.549999  152.380005  131.149994  434.040009\n",
       "2021-09-21  47.349998  36.500000  152.440002  131.350006  433.630005\n",
       "2021-09-22  48.810001  37.110001  154.529999  131.570007  437.859985\n",
       "2021-09-23  50.520000  38.020000  156.600006  132.520004  443.179993\n",
       "\n",
       "[5467 rows x 5 columns]"
      ]
     },
     "execution_count": 13,
     "metadata": {},
     "output_type": "execute_result"
    }
   ],
   "source": [
    "# Join DataFrames for all S&P500 financial sectors plus the S&P 500 Index to be analyzed\n",
    "sector_data = pd.concat([XLE_close, XLF_close, XLK_close, XLV_close,spy_close], axis='columns', join='inner')\n",
    "sector_data.sort_index(inplace=True)\n",
    "sector_data"
   ]
  },
  {
   "cell_type": "markdown",
   "id": "5bc8c2e3",
   "metadata": {},
   "source": [
    "### Slice concatenated dataframe into time periods.  Plot each time period to see how the data slices compare to each other."
   ]
  },
  {
   "cell_type": "code",
   "execution_count": 14,
   "id": "77b384a0",
   "metadata": {},
   "outputs": [
    {
     "data": {
      "text/plain": [
       "<seaborn.axisgrid.FacetGrid at 0x7febcc5e0910>"
      ]
     },
     "execution_count": 14,
     "metadata": {},
     "output_type": "execute_result"
    },
    {
     "data": {
      "image/png": "[encoded data removed]",
      "text/plain": [
       "<Figure size 445.125x360 with 1 Axes>"
      ]
     },
     "metadata": {
      "needs_background": "light"
     },
     "output_type": "display_data"
    }
   ],
   "source": [
    "# Plot data for all presidential terms\n",
    "\n",
    "sns.relplot(data=sector_data, kind = 'line')"
   ]
  },
  {
   "cell_type": "code",
   "execution_count": 15,
   "id": "fde599e3",
   "metadata": {},
   "outputs": [
    {
     "data": {
      "text/html": [
       "<div>\n",
       "<style scoped>\n",
       "    .dataframe tbody tr th:only-of-type {\n",
       "        vertical-align: middle;\n",
       "    }\n",
       "\n",
       "    .dataframe tbody tr th {\n",
       "        vertical-align: top;\n",
       "    }\n",
       "\n",
       "    .dataframe thead th {\n",
       "        text-align: right;\n",
       "    }\n",
       "</style>\n",
       "<table border=\"1\" class=\"dataframe\">\n",
       "  <thead>\n",
       "    <tr style=\"text-align: right;\">\n",
       "      <th></th>\n",
       "      <th>XLE Close</th>\n",
       "      <th>XLF Close</th>\n",
       "      <th>XLK Close</th>\n",
       "      <th>XLV Close</th>\n",
       "      <th>SPY Close</th>\n",
       "    </tr>\n",
       "  </thead>\n",
       "  <tbody>\n",
       "    <tr>\n",
       "      <th>2020-08-03</th>\n",
       "      <td>36.160000</td>\n",
       "      <td>24.100000</td>\n",
       "      <td>113.150002</td>\n",
       "      <td>106.620003</td>\n",
       "      <td>328.790009</td>\n",
       "    </tr>\n",
       "    <tr>\n",
       "      <th>2020-08-04</th>\n",
       "      <td>37.040001</td>\n",
       "      <td>24.000000</td>\n",
       "      <td>113.440002</td>\n",
       "      <td>106.150002</td>\n",
       "      <td>330.059998</td>\n",
       "    </tr>\n",
       "    <tr>\n",
       "      <th>2020-08-05</th>\n",
       "      <td>37.430000</td>\n",
       "      <td>24.330000</td>\n",
       "      <td>113.860001</td>\n",
       "      <td>106.639999</td>\n",
       "      <td>332.109985</td>\n",
       "    </tr>\n",
       "    <tr>\n",
       "      <th>2020-08-06</th>\n",
       "      <td>37.130001</td>\n",
       "      <td>24.320000</td>\n",
       "      <td>115.459999</td>\n",
       "      <td>106.070000</td>\n",
       "      <td>334.329987</td>\n",
       "    </tr>\n",
       "    <tr>\n",
       "      <th>2020-08-07</th>\n",
       "      <td>37.180000</td>\n",
       "      <td>24.840000</td>\n",
       "      <td>113.739998</td>\n",
       "      <td>106.410004</td>\n",
       "      <td>334.570007</td>\n",
       "    </tr>\n",
       "    <tr>\n",
       "      <th>...</th>\n",
       "      <td>...</td>\n",
       "      <td>...</td>\n",
       "      <td>...</td>\n",
       "      <td>...</td>\n",
       "      <td>...</td>\n",
       "    </tr>\n",
       "    <tr>\n",
       "      <th>2000-10-30</th>\n",
       "      <td>31.656250</td>\n",
       "      <td>23.164602</td>\n",
       "      <td>41.781250</td>\n",
       "      <td>28.843750</td>\n",
       "      <td>140.531250</td>\n",
       "    </tr>\n",
       "    <tr>\n",
       "      <th>2000-10-31</th>\n",
       "      <td>31.875000</td>\n",
       "      <td>23.354996</td>\n",
       "      <td>43.718750</td>\n",
       "      <td>29.500000</td>\n",
       "      <td>142.953125</td>\n",
       "    </tr>\n",
       "    <tr>\n",
       "      <th>2000-11-01</th>\n",
       "      <td>32.906250</td>\n",
       "      <td>23.253452</td>\n",
       "      <td>42.875000</td>\n",
       "      <td>29.703125</td>\n",
       "      <td>142.468750</td>\n",
       "    </tr>\n",
       "    <tr>\n",
       "      <th>2000-11-02</th>\n",
       "      <td>31.750000</td>\n",
       "      <td>23.367689</td>\n",
       "      <td>43.984375</td>\n",
       "      <td>29.968750</td>\n",
       "      <td>142.703125</td>\n",
       "    </tr>\n",
       "    <tr>\n",
       "      <th>2000-11-03</th>\n",
       "      <td>31.625000</td>\n",
       "      <td>23.304224</td>\n",
       "      <td>44.312500</td>\n",
       "      <td>29.859375</td>\n",
       "      <td>142.781250</td>\n",
       "    </tr>\n",
       "  </tbody>\n",
       "</table>\n",
       "<p>393 rows × 5 columns</p>\n",
       "</div>"
      ],
      "text/plain": [
       "            XLE Close  XLF Close   XLK Close   XLV Close   SPY Close\n",
       "2020-08-03  36.160000  24.100000  113.150002  106.620003  328.790009\n",
       "2020-08-04  37.040001  24.000000  113.440002  106.150002  330.059998\n",
       "2020-08-05  37.430000  24.330000  113.860001  106.639999  332.109985\n",
       "2020-08-06  37.130001  24.320000  115.459999  106.070000  334.329987\n",
       "2020-08-07  37.180000  24.840000  113.739998  106.410004  334.570007\n",
       "...               ...        ...         ...         ...         ...\n",
       "2000-10-30  31.656250  23.164602   41.781250   28.843750  140.531250\n",
       "2000-10-31  31.875000  23.354996   43.718750   29.500000  142.953125\n",
       "2000-11-01  32.906250  23.253452   42.875000   29.703125  142.468750\n",
       "2000-11-02  31.750000  23.367689   43.984375   29.968750  142.703125\n",
       "2000-11-03  31.625000  23.304224   44.312500   29.859375  142.781250\n",
       "\n",
       "[393 rows x 5 columns]"
      ]
     },
     "execution_count": 15,
     "metadata": {},
     "output_type": "execute_result"
    }
   ],
   "source": [
    "# Slice data for three months prior to Election Day\n",
    "\n",
    "before_election_biden = sector_data.loc['2020-08-3':'2020-11-3']\n",
    "before_election_trump = sector_data.loc['2016-08-8':'2016-11-8']\n",
    "before_election_obamab = sector_data.loc['2012-08-6':'2012-11-6']\n",
    "before_election_obamaa = sector_data.loc['2008-08-4':'2008-11-4']\n",
    "before_election_bushb = sector_data.loc['2004-08-2':'2004-11-2']\n",
    "before_election_busha = sector_data.loc['2000-08-4':'2000-11-4']\n",
    "\n",
    "before_election_range = pd.concat([before_election_biden, before_election_trump, before_election_obamab, before_election_obamaa, before_election_bushb, before_election_busha], axis = 'rows', join= 'inner')\n",
    "before_election_range"
   ]
  },
  {
   "cell_type": "code",
   "execution_count": 16,
   "id": "5bacc688",
   "metadata": {},
   "outputs": [
    {
     "data": {
      "text/plain": [
       "<seaborn.axisgrid.FacetGrid at 0x7febcc9539a0>"
      ]
     },
     "execution_count": 16,
     "metadata": {},
     "output_type": "execute_result"
    },
    {
     "data": {
      "image/png": "[encoded data removed]",
      "text/plain": [
       "<Figure size 445.125x360 with 1 Axes>"
      ]
     },
     "metadata": {
      "needs_background": "light"
     },
     "output_type": "display_data"
    }
   ],
   "source": [
    "# Plot data for three months prior to Election Day\n",
    "\n",
    "sns.relplot(data=before_election_range, kind = 'line')"
   ]
  },
  {
   "cell_type": "code",
   "execution_count": 17,
   "id": "754edcb0",
   "metadata": {},
   "outputs": [
    {
     "data": {
      "text/html": [
       "<div>\n",
       "<style scoped>\n",
       "    .dataframe tbody tr th:only-of-type {\n",
       "        vertical-align: middle;\n",
       "    }\n",
       "\n",
       "    .dataframe tbody tr th {\n",
       "        vertical-align: top;\n",
       "    }\n",
       "\n",
       "    .dataframe thead th {\n",
       "        text-align: right;\n",
       "    }\n",
       "</style>\n",
       "<table border=\"1\" class=\"dataframe\">\n",
       "  <thead>\n",
       "    <tr style=\"text-align: right;\">\n",
       "      <th></th>\n",
       "      <th>XLE Close</th>\n",
       "      <th>XLF Close</th>\n",
       "      <th>XLK Close</th>\n",
       "      <th>XLV Close</th>\n",
       "      <th>SPY Close</th>\n",
       "    </tr>\n",
       "  </thead>\n",
       "  <tbody>\n",
       "    <tr>\n",
       "      <th>2020-11-03</th>\n",
       "      <td>29.530001</td>\n",
       "      <td>24.850000</td>\n",
       "      <td>113.099998</td>\n",
       "      <td>105.000000</td>\n",
       "      <td>336.029999</td>\n",
       "    </tr>\n",
       "    <tr>\n",
       "      <th>2020-11-04</th>\n",
       "      <td>29.570000</td>\n",
       "      <td>24.559999</td>\n",
       "      <td>117.500000</td>\n",
       "      <td>109.660004</td>\n",
       "      <td>343.540009</td>\n",
       "    </tr>\n",
       "    <tr>\n",
       "      <th>2020-11-05</th>\n",
       "      <td>29.570000</td>\n",
       "      <td>25.160000</td>\n",
       "      <td>121.150002</td>\n",
       "      <td>109.879997</td>\n",
       "      <td>350.239990</td>\n",
       "    </tr>\n",
       "    <tr>\n",
       "      <th>2020-11-06</th>\n",
       "      <td>28.930000</td>\n",
       "      <td>24.959999</td>\n",
       "      <td>121.580002</td>\n",
       "      <td>109.919998</td>\n",
       "      <td>350.160004</td>\n",
       "    </tr>\n",
       "    <tr>\n",
       "      <th>2020-11-09</th>\n",
       "      <td>33.060001</td>\n",
       "      <td>27.010000</td>\n",
       "      <td>120.699997</td>\n",
       "      <td>110.949997</td>\n",
       "      <td>354.559998</td>\n",
       "    </tr>\n",
       "    <tr>\n",
       "      <th>...</th>\n",
       "      <td>...</td>\n",
       "      <td>...</td>\n",
       "      <td>...</td>\n",
       "      <td>...</td>\n",
       "      <td>...</td>\n",
       "    </tr>\n",
       "    <tr>\n",
       "      <th>2001-01-29</th>\n",
       "      <td>31.520000</td>\n",
       "      <td>23.996752</td>\n",
       "      <td>38.160000</td>\n",
       "      <td>29.459999</td>\n",
       "      <td>136.600006</td>\n",
       "    </tr>\n",
       "    <tr>\n",
       "      <th>2001-01-30</th>\n",
       "      <td>31.790001</td>\n",
       "      <td>24.207960</td>\n",
       "      <td>38.250000</td>\n",
       "      <td>29.400000</td>\n",
       "      <td>137.800003</td>\n",
       "    </tr>\n",
       "    <tr>\n",
       "      <th>2001-01-31</th>\n",
       "      <td>32.130001</td>\n",
       "      <td>23.907393</td>\n",
       "      <td>37.299999</td>\n",
       "      <td>29.219999</td>\n",
       "      <td>137.020004</td>\n",
       "    </tr>\n",
       "    <tr>\n",
       "      <th>2001-02-01</th>\n",
       "      <td>31.719999</td>\n",
       "      <td>23.939886</td>\n",
       "      <td>37.279999</td>\n",
       "      <td>29.610001</td>\n",
       "      <td>137.929993</td>\n",
       "    </tr>\n",
       "    <tr>\n",
       "      <th>2001-02-02</th>\n",
       "      <td>32.250000</td>\n",
       "      <td>24.004873</td>\n",
       "      <td>35.639999</td>\n",
       "      <td>29.260000</td>\n",
       "      <td>134.800003</td>\n",
       "    </tr>\n",
       "  </tbody>\n",
       "</table>\n",
       "<p>377 rows × 5 columns</p>\n",
       "</div>"
      ],
      "text/plain": [
       "            XLE Close  XLF Close   XLK Close   XLV Close   SPY Close\n",
       "2020-11-03  29.530001  24.850000  113.099998  105.000000  336.029999\n",
       "2020-11-04  29.570000  24.559999  117.500000  109.660004  343.540009\n",
       "2020-11-05  29.570000  25.160000  121.150002  109.879997  350.239990\n",
       "2020-11-06  28.930000  24.959999  121.580002  109.919998  350.160004\n",
       "2020-11-09  33.060001  27.010000  120.699997  110.949997  354.559998\n",
       "...               ...        ...         ...         ...         ...\n",
       "2001-01-29  31.520000  23.996752   38.160000   29.459999  136.600006\n",
       "2001-01-30  31.790001  24.207960   38.250000   29.400000  137.800003\n",
       "2001-01-31  32.130001  23.907393   37.299999   29.219999  137.020004\n",
       "2001-02-01  31.719999  23.939886   37.279999   29.610001  137.929993\n",
       "2001-02-02  32.250000  24.004873   35.639999   29.260000  134.800003\n",
       "\n",
       "[377 rows x 5 columns]"
      ]
     },
     "execution_count": 17,
     "metadata": {},
     "output_type": "execute_result"
    }
   ],
   "source": [
    "# Slice data for three months after Election Day\n",
    "\n",
    "after_election_biden = sector_data.loc['2020-11-3':'2021-2-3']\n",
    "after_election_trump = sector_data.loc['2016-11-8':'2017-2-8']\n",
    "after_election_obamab = sector_data.loc['2012-11-6':'2013-2-6']\n",
    "after_election_obamaa = sector_data.loc['2008-11-4':'2009-2-4']\n",
    "after_election_bushb = sector_data.loc['2004-11-2':'2005-2-2']\n",
    "after_election_busha = sector_data.loc['2000-11-4':'2001-2-4']\n",
    "\n",
    "after_election_range = pd.concat([after_election_biden, after_election_trump, after_election_obamab, after_election_obamaa, after_election_bushb, after_election_busha], axis = 'rows', join= 'inner')\n",
    "after_election_range"
   ]
  },
  {
   "cell_type": "code",
   "execution_count": 18,
   "id": "6e65fae0",
   "metadata": {},
   "outputs": [
    {
     "data": {
      "text/plain": [
       "<seaborn.axisgrid.FacetGrid at 0x7febcd3965b0>"
      ]
     },
     "execution_count": 18,
     "metadata": {},
     "output_type": "execute_result"
    },
    {
     "data": {
      "image/png": "[encoded data removed]",
      "text/plain": [
       "<Figure size 445.125x360 with 1 Axes>"
      ]
     },
     "metadata": {
      "needs_background": "light"
     },
     "output_type": "display_data"
    }
   ],
   "source": [
    "# Plot data for Election Day plus 13 days\n",
    "sns.relplot(data=after_election_range, kind = 'line')"
   ]
  },
  {
   "cell_type": "code",
   "execution_count": 19,
   "id": "3416e50f",
   "metadata": {},
   "outputs": [
    {
     "data": {
      "text/html": [
       "<div>\n",
       "<style scoped>\n",
       "    .dataframe tbody tr th:only-of-type {\n",
       "        vertical-align: middle;\n",
       "    }\n",
       "\n",
       "    .dataframe tbody tr th {\n",
       "        vertical-align: top;\n",
       "    }\n",
       "\n",
       "    .dataframe thead th {\n",
       "        text-align: right;\n",
       "    }\n",
       "</style>\n",
       "<table border=\"1\" class=\"dataframe\">\n",
       "  <thead>\n",
       "    <tr style=\"text-align: right;\">\n",
       "      <th></th>\n",
       "      <th>XLE Close</th>\n",
       "      <th>XLF Close</th>\n",
       "      <th>XLK Close</th>\n",
       "      <th>XLV Close</th>\n",
       "      <th>SPY Close</th>\n",
       "    </tr>\n",
       "  </thead>\n",
       "  <tbody>\n",
       "    <tr>\n",
       "      <th>2021-01-20</th>\n",
       "      <td>43.770000</td>\n",
       "      <td>30.889999</td>\n",
       "      <td>131.639999</td>\n",
       "      <td>118.500000</td>\n",
       "      <td>383.890015</td>\n",
       "    </tr>\n",
       "    <tr>\n",
       "      <th>2021-01-21</th>\n",
       "      <td>42.290001</td>\n",
       "      <td>30.559999</td>\n",
       "      <td>133.339996</td>\n",
       "      <td>117.940002</td>\n",
       "      <td>384.239990</td>\n",
       "    </tr>\n",
       "    <tr>\n",
       "      <th>2021-01-22</th>\n",
       "      <td>42.070000</td>\n",
       "      <td>30.340000</td>\n",
       "      <td>132.830002</td>\n",
       "      <td>117.589996</td>\n",
       "      <td>382.880005</td>\n",
       "    </tr>\n",
       "    <tr>\n",
       "      <th>2021-01-25</th>\n",
       "      <td>41.639999</td>\n",
       "      <td>30.120001</td>\n",
       "      <td>133.940002</td>\n",
       "      <td>118.360001</td>\n",
       "      <td>384.390015</td>\n",
       "    </tr>\n",
       "    <tr>\n",
       "      <th>2021-01-26</th>\n",
       "      <td>40.750000</td>\n",
       "      <td>29.879999</td>\n",
       "      <td>134.029999</td>\n",
       "      <td>117.919998</td>\n",
       "      <td>383.790009</td>\n",
       "    </tr>\n",
       "    <tr>\n",
       "      <th>...</th>\n",
       "      <td>...</td>\n",
       "      <td>...</td>\n",
       "      <td>...</td>\n",
       "      <td>...</td>\n",
       "      <td>...</td>\n",
       "    </tr>\n",
       "    <tr>\n",
       "      <th>2001-01-29</th>\n",
       "      <td>31.520000</td>\n",
       "      <td>23.996752</td>\n",
       "      <td>38.160000</td>\n",
       "      <td>29.459999</td>\n",
       "      <td>136.600006</td>\n",
       "    </tr>\n",
       "    <tr>\n",
       "      <th>2001-01-30</th>\n",
       "      <td>31.790001</td>\n",
       "      <td>24.207960</td>\n",
       "      <td>38.250000</td>\n",
       "      <td>29.400000</td>\n",
       "      <td>137.800003</td>\n",
       "    </tr>\n",
       "    <tr>\n",
       "      <th>2001-01-31</th>\n",
       "      <td>32.130001</td>\n",
       "      <td>23.907393</td>\n",
       "      <td>37.299999</td>\n",
       "      <td>29.219999</td>\n",
       "      <td>137.020004</td>\n",
       "    </tr>\n",
       "    <tr>\n",
       "      <th>2001-02-01</th>\n",
       "      <td>31.719999</td>\n",
       "      <td>23.939886</td>\n",
       "      <td>37.279999</td>\n",
       "      <td>29.610001</td>\n",
       "      <td>137.929993</td>\n",
       "    </tr>\n",
       "    <tr>\n",
       "      <th>2001-02-02</th>\n",
       "      <td>32.250000</td>\n",
       "      <td>24.004873</td>\n",
       "      <td>35.639999</td>\n",
       "      <td>29.260000</td>\n",
       "      <td>134.800003</td>\n",
       "    </tr>\n",
       "  </tbody>\n",
       "</table>\n",
       "<p>63 rows × 5 columns</p>\n",
       "</div>"
      ],
      "text/plain": [
       "            XLE Close  XLF Close   XLK Close   XLV Close   SPY Close\n",
       "2021-01-20  43.770000  30.889999  131.639999  118.500000  383.890015\n",
       "2021-01-21  42.290001  30.559999  133.339996  117.940002  384.239990\n",
       "2021-01-22  42.070000  30.340000  132.830002  117.589996  382.880005\n",
       "2021-01-25  41.639999  30.120001  133.940002  118.360001  384.390015\n",
       "2021-01-26  40.750000  29.879999  134.029999  117.919998  383.790009\n",
       "...               ...        ...         ...         ...         ...\n",
       "2001-01-29  31.520000  23.996752   38.160000   29.459999  136.600006\n",
       "2001-01-30  31.790001  24.207960   38.250000   29.400000  137.800003\n",
       "2001-01-31  32.130001  23.907393   37.299999   29.219999  137.020004\n",
       "2001-02-01  31.719999  23.939886   37.279999   29.610001  137.929993\n",
       "2001-02-02  32.250000  24.004873   35.639999   29.260000  134.800003\n",
       "\n",
       "[63 rows x 5 columns]"
      ]
     },
     "execution_count": 19,
     "metadata": {},
     "output_type": "execute_result"
    }
   ],
   "source": [
    "# Slice data for Inauguration Day plus 13 days\n",
    "\n",
    "el21 = sector_data.loc['2021-01-20':'2021-02-03']\n",
    "el17 = sector_data.loc['2017-01-20':'2017-02-03']\n",
    "el13 = sector_data.loc['2013-01-20':'2013-02-03']\n",
    "el09 = sector_data.loc['2009-01-20':'2009-02-03']\n",
    "el05 = sector_data.loc['2005-01-20':'2005-02-03']\n",
    "el01 = sector_data.loc['2001-01-20':'2001-02-03']\n",
    "\n",
    "inauguration_range = pd.concat([el21, el17, el13, el09, el05, el01], axis = 'rows', join= 'inner')\n",
    "inauguration_range"
   ]
  },
  {
   "cell_type": "code",
   "execution_count": 20,
   "id": "13eeb433",
   "metadata": {},
   "outputs": [
    {
     "data": {
      "text/plain": [
       "<seaborn.axisgrid.FacetGrid at 0x7febcd632bb0>"
      ]
     },
     "execution_count": 20,
     "metadata": {},
     "output_type": "execute_result"
    },
    {
     "data": {
      "image/png": "[encoded data removed]",
      "text/plain": [
       "<Figure size 445.125x360 with 1 Axes>"
      ]
     },
     "metadata": {
      "needs_background": "light"
     },
     "output_type": "display_data"
    }
   ],
   "source": [
    "# Plot data for Inauguration Day plus 13 days\n",
    "\n",
    "sns.relplot(data=inauguration_range, kind = 'line')"
   ]
  },
  {
   "cell_type": "code",
   "execution_count": 21,
   "id": "f38da2a7",
   "metadata": {},
   "outputs": [
    {
     "data": {
      "text/html": [
       "<div>\n",
       "<style scoped>\n",
       "    .dataframe tbody tr th:only-of-type {\n",
       "        vertical-align: middle;\n",
       "    }\n",
       "\n",
       "    .dataframe tbody tr th {\n",
       "        vertical-align: top;\n",
       "    }\n",
       "\n",
       "    .dataframe thead th {\n",
       "        text-align: right;\n",
       "    }\n",
       "</style>\n",
       "<table border=\"1\" class=\"dataframe\">\n",
       "  <thead>\n",
       "    <tr style=\"text-align: right;\">\n",
       "      <th></th>\n",
       "      <th>XLE Close</th>\n",
       "      <th>XLF Close</th>\n",
       "      <th>XLK Close</th>\n",
       "      <th>XLV Close</th>\n",
       "      <th>SPY Close</th>\n",
       "    </tr>\n",
       "  </thead>\n",
       "  <tbody>\n",
       "    <tr>\n",
       "      <th>2021-01-20</th>\n",
       "      <td>43.770000</td>\n",
       "      <td>30.889999</td>\n",
       "      <td>131.639999</td>\n",
       "      <td>118.500000</td>\n",
       "      <td>383.890015</td>\n",
       "    </tr>\n",
       "    <tr>\n",
       "      <th>2021-01-21</th>\n",
       "      <td>42.290001</td>\n",
       "      <td>30.559999</td>\n",
       "      <td>133.339996</td>\n",
       "      <td>117.940002</td>\n",
       "      <td>384.239990</td>\n",
       "    </tr>\n",
       "    <tr>\n",
       "      <th>2021-01-22</th>\n",
       "      <td>42.070000</td>\n",
       "      <td>30.340000</td>\n",
       "      <td>132.830002</td>\n",
       "      <td>117.589996</td>\n",
       "      <td>382.880005</td>\n",
       "    </tr>\n",
       "    <tr>\n",
       "      <th>2021-01-25</th>\n",
       "      <td>41.639999</td>\n",
       "      <td>30.120001</td>\n",
       "      <td>133.940002</td>\n",
       "      <td>118.360001</td>\n",
       "      <td>384.390015</td>\n",
       "    </tr>\n",
       "    <tr>\n",
       "      <th>2021-01-26</th>\n",
       "      <td>40.750000</td>\n",
       "      <td>29.879999</td>\n",
       "      <td>134.029999</td>\n",
       "      <td>117.919998</td>\n",
       "      <td>383.790009</td>\n",
       "    </tr>\n",
       "    <tr>\n",
       "      <th>...</th>\n",
       "      <td>...</td>\n",
       "      <td>...</td>\n",
       "      <td>...</td>\n",
       "      <td>...</td>\n",
       "      <td>...</td>\n",
       "    </tr>\n",
       "    <tr>\n",
       "      <th>2001-04-24</th>\n",
       "      <td>32.970001</td>\n",
       "      <td>21.900894</td>\n",
       "      <td>27.900000</td>\n",
       "      <td>28.389999</td>\n",
       "      <td>121.580002</td>\n",
       "    </tr>\n",
       "    <tr>\n",
       "      <th>2001-04-25</th>\n",
       "      <td>33.439999</td>\n",
       "      <td>22.136475</td>\n",
       "      <td>28.389999</td>\n",
       "      <td>28.719999</td>\n",
       "      <td>123.169998</td>\n",
       "    </tr>\n",
       "    <tr>\n",
       "      <th>2001-04-26</th>\n",
       "      <td>34.099998</td>\n",
       "      <td>22.225834</td>\n",
       "      <td>27.990000</td>\n",
       "      <td>29.080000</td>\n",
       "      <td>123.720001</td>\n",
       "    </tr>\n",
       "    <tr>\n",
       "      <th>2001-04-27</th>\n",
       "      <td>33.869999</td>\n",
       "      <td>22.705118</td>\n",
       "      <td>28.370001</td>\n",
       "      <td>28.799999</td>\n",
       "      <td>125.779999</td>\n",
       "    </tr>\n",
       "    <tr>\n",
       "      <th>2001-04-30</th>\n",
       "      <td>33.869999</td>\n",
       "      <td>22.339561</td>\n",
       "      <td>28.809999</td>\n",
       "      <td>28.799999</td>\n",
       "      <td>126.660004</td>\n",
       "    </tr>\n",
       "  </tbody>\n",
       "</table>\n",
       "<p>419 rows × 5 columns</p>\n",
       "</div>"
      ],
      "text/plain": [
       "            XLE Close  XLF Close   XLK Close   XLV Close   SPY Close\n",
       "2021-01-20  43.770000  30.889999  131.639999  118.500000  383.890015\n",
       "2021-01-21  42.290001  30.559999  133.339996  117.940002  384.239990\n",
       "2021-01-22  42.070000  30.340000  132.830002  117.589996  382.880005\n",
       "2021-01-25  41.639999  30.120001  133.940002  118.360001  384.390015\n",
       "2021-01-26  40.750000  29.879999  134.029999  117.919998  383.790009\n",
       "...               ...        ...         ...         ...         ...\n",
       "2001-04-24  32.970001  21.900894   27.900000   28.389999  121.580002\n",
       "2001-04-25  33.439999  22.136475   28.389999   28.719999  123.169998\n",
       "2001-04-26  34.099998  22.225834   27.990000   29.080000  123.720001\n",
       "2001-04-27  33.869999  22.705118   28.370001   28.799999  125.779999\n",
       "2001-04-30  33.869999  22.339561   28.809999   28.799999  126.660004\n",
       "\n",
       "[419 rows x 5 columns]"
      ]
     },
     "execution_count": 21,
     "metadata": {},
     "output_type": "execute_result"
    }
   ],
   "source": [
    "# Slice data for the first 100 days of each administration\n",
    "\n",
    "first_days_biden = sector_data.loc['2021-01-20':'2021-04-30']\n",
    "first_days_trump = sector_data.loc['2017-01-20':'2017-04-30']\n",
    "first_days_obamab = sector_data.loc['2013-01-20':'2013-04-30']\n",
    "first_days_obamaa = sector_data.loc['2009-01-20':'2009-04-30']\n",
    "first_days_bushb = sector_data.loc['2005-01-20':'2005-04-30']\n",
    "first_days_busha = sector_data.loc['2001-01-20':'2001-04-30']\n",
    "\n",
    "first_days_range = pd.concat([first_days_biden, first_days_trump, first_days_obamab, first_days_obamaa, first_days_bushb, first_days_busha], axis = 'rows', join= 'inner')\n",
    "first_days_range"
   ]
  },
  {
   "cell_type": "code",
   "execution_count": 22,
   "id": "1b7a5232",
   "metadata": {},
   "outputs": [
    {
     "data": {
      "text/plain": [
       "<seaborn.axisgrid.FacetGrid at 0x7febcd438520>"
      ]
     },
     "execution_count": 22,
     "metadata": {},
     "output_type": "execute_result"
    },
    {
     "data": {
      "image/png": "[encoded data removed]",
      "text/plain": [
       "<Figure size 445.125x360 with 1 Axes>"
      ]
     },
     "metadata": {
      "needs_background": "light"
     },
     "output_type": "display_data"
    }
   ],
   "source": [
    "# Plot data for the first 100 days\n",
    "sns.relplot(data=first_days_range, kind = 'line')"
   ]
  },
  {
   "cell_type": "code",
   "execution_count": 36,
   "id": "c8fa571e-5785-4fb5-932a-363c35a2033f",
   "metadata": {},
   "outputs": [],
   "source": []
  },
  {
   "cell_type": "code",
   "execution_count": 39,
   "id": "68f3bccc-a8ce-4baf-8bc8-3ac71f4995e2",
   "metadata": {
    "tags": []
   },
   "outputs": [
    {
     "data": {
      "text/plain": [
       "<AxesSubplot:>"
      ]
     },
     "execution_count": 39,
     "metadata": {},
     "output_type": "execute_result"
    },
    {
     "data": {
      "image/png": "[encoded data removed]",
      "text/plain": [
       "<Figure size 720x360 with 1 Axes>"
      ]
     },
     "metadata": {
      "needs_background": "light"
     },
     "output_type": "display_data"
    },
    {
     "data": {
      "image/png": "[encoded data removed]",
      "text/plain": [
       "<Figure size 720x360 with 1 Axes>"
      ]
     },
     "metadata": {
      "needs_background": "light"
     },
     "output_type": "display_data"
    }
   ],
   "source": [
    "before_election_biden.plot.box(figsize=(10,5))\n",
    "after_election_biden.plot.box(figsize=(10,5))"
   ]
  },
  {
   "cell_type": "code",
   "execution_count": 40,
   "id": "92c1e36c-8269-4b0e-b0c4-b18e74a71f9b",
   "metadata": {},
   "outputs": [
    {
     "data": {
      "text/plain": [
       "<AxesSubplot:>"
      ]
     },
     "execution_count": 40,
     "metadata": {},
     "output_type": "execute_result"
    },
    {
     "data": {
      "image/png": "[encoded data removed]",
      "text/plain": [
       "<Figure size 720x360 with 1 Axes>"
      ]
     },
     "metadata": {
      "needs_background": "light"
     },
     "output_type": "display_data"
    },
    {
     "data": {
      "image/png": "[encoded data removed]",
      "text/plain": [
       "<Figure size 720x360 with 1 Axes>"
      ]
     },
     "metadata": {
      "needs_background": "light"
     },
     "output_type": "display_data"
    }
   ],
   "source": [
    "before_election_trump.plot.box(figsize=(10,5))\n",
    "after_election_trump.plot.box(figsize=(10,5))"
   ]
  },
  {
   "cell_type": "markdown",
   "id": "197a0360",
   "metadata": {},
   "source": [
    "### Calculate daily returns for each sector and the S&P 500 index."
   ]
  },
  {
   "cell_type": "code",
   "execution_count": 24,
   "id": "dcc9497b",
   "metadata": {},
   "outputs": [],
   "source": [
    "# Define a function to calculate daily returns\n",
    "def daily_returns(df):\n",
    "    df_daily_returns = df.pct_change().dropna()\n",
    "    return df_daily_returns"
   ]
  },
  {
   "cell_type": "code",
   "execution_count": 25,
   "id": "ea66db42",
   "metadata": {},
   "outputs": [
    {
     "data": {
      "text/html": [
       "<div>\n",
       "<style scoped>\n",
       "    .dataframe tbody tr th:only-of-type {\n",
       "        vertical-align: middle;\n",
       "    }\n",
       "\n",
       "    .dataframe tbody tr th {\n",
       "        vertical-align: top;\n",
       "    }\n",
       "\n",
       "    .dataframe thead th {\n",
       "        text-align: right;\n",
       "    }\n",
       "</style>\n",
       "<table border=\"1\" class=\"dataframe\">\n",
       "  <thead>\n",
       "    <tr style=\"text-align: right;\">\n",
       "      <th></th>\n",
       "      <th>XLE Close</th>\n",
       "      <th>XLF Close</th>\n",
       "      <th>XLK Close</th>\n",
       "      <th>XLV Close</th>\n",
       "      <th>SPY Close</th>\n",
       "    </tr>\n",
       "  </thead>\n",
       "  <tbody>\n",
       "    <tr>\n",
       "      <th>2000-01-04</th>\n",
       "      <td>-0.018824</td>\n",
       "      <td>-0.043716</td>\n",
       "      <td>-0.050733</td>\n",
       "      <td>-0.022692</td>\n",
       "      <td>-0.039106</td>\n",
       "    </tr>\n",
       "    <tr>\n",
       "      <th>2000-01-05</th>\n",
       "      <td>0.026379</td>\n",
       "      <td>-0.007857</td>\n",
       "      <td>-0.014846</td>\n",
       "      <td>-0.008971</td>\n",
       "      <td>0.001789</td>\n",
       "    </tr>\n",
       "    <tr>\n",
       "      <th>2000-01-06</th>\n",
       "      <td>0.038551</td>\n",
       "      <td>0.043916</td>\n",
       "      <td>-0.033153</td>\n",
       "      <td>0.003195</td>\n",
       "      <td>-0.016071</td>\n",
       "    </tr>\n",
       "    <tr>\n",
       "      <th>2000-01-07</th>\n",
       "      <td>0.010686</td>\n",
       "      <td>0.016552</td>\n",
       "      <td>0.017456</td>\n",
       "      <td>0.012208</td>\n",
       "      <td>0.058076</td>\n",
       "    </tr>\n",
       "    <tr>\n",
       "      <th>2000-01-10</th>\n",
       "      <td>-0.008347</td>\n",
       "      <td>-0.017639</td>\n",
       "      <td>0.037990</td>\n",
       "      <td>0.102255</td>\n",
       "      <td>0.003431</td>\n",
       "    </tr>\n",
       "    <tr>\n",
       "      <th>...</th>\n",
       "      <td>...</td>\n",
       "      <td>...</td>\n",
       "      <td>...</td>\n",
       "      <td>...</td>\n",
       "      <td>...</td>\n",
       "    </tr>\n",
       "    <tr>\n",
       "      <th>2021-09-17</th>\n",
       "      <td>-0.007446</td>\n",
       "      <td>-0.004503</td>\n",
       "      <td>-0.015576</td>\n",
       "      <td>0.000978</td>\n",
       "      <td>-0.012903</td>\n",
       "    </tr>\n",
       "    <tr>\n",
       "      <th>2021-09-20</th>\n",
       "      <td>-0.042174</td>\n",
       "      <td>-0.027408</td>\n",
       "      <td>-0.019938</td>\n",
       "      <td>-0.013910</td>\n",
       "      <td>-0.016674</td>\n",
       "    </tr>\n",
       "    <tr>\n",
       "      <th>2021-09-21</th>\n",
       "      <td>0.002328</td>\n",
       "      <td>-0.001368</td>\n",
       "      <td>0.000394</td>\n",
       "      <td>0.001525</td>\n",
       "      <td>-0.000945</td>\n",
       "    </tr>\n",
       "    <tr>\n",
       "      <th>2021-09-22</th>\n",
       "      <td>0.030834</td>\n",
       "      <td>0.016712</td>\n",
       "      <td>0.013710</td>\n",
       "      <td>0.001675</td>\n",
       "      <td>0.009755</td>\n",
       "    </tr>\n",
       "    <tr>\n",
       "      <th>2021-09-23</th>\n",
       "      <td>0.035034</td>\n",
       "      <td>0.024522</td>\n",
       "      <td>0.013396</td>\n",
       "      <td>0.007220</td>\n",
       "      <td>0.012150</td>\n",
       "    </tr>\n",
       "  </tbody>\n",
       "</table>\n",
       "<p>5466 rows × 5 columns</p>\n",
       "</div>"
      ],
      "text/plain": [
       "            XLE Close  XLF Close  XLK Close  XLV Close  SPY Close\n",
       "2000-01-04  -0.018824  -0.043716  -0.050733  -0.022692  -0.039106\n",
       "2000-01-05   0.026379  -0.007857  -0.014846  -0.008971   0.001789\n",
       "2000-01-06   0.038551   0.043916  -0.033153   0.003195  -0.016071\n",
       "2000-01-07   0.010686   0.016552   0.017456   0.012208   0.058076\n",
       "2000-01-10  -0.008347  -0.017639   0.037990   0.102255   0.003431\n",
       "...               ...        ...        ...        ...        ...\n",
       "2021-09-17  -0.007446  -0.004503  -0.015576   0.000978  -0.012903\n",
       "2021-09-20  -0.042174  -0.027408  -0.019938  -0.013910  -0.016674\n",
       "2021-09-21   0.002328  -0.001368   0.000394   0.001525  -0.000945\n",
       "2021-09-22   0.030834   0.016712   0.013710   0.001675   0.009755\n",
       "2021-09-23   0.035034   0.024522   0.013396   0.007220   0.012150\n",
       "\n",
       "[5466 rows x 5 columns]"
      ]
     },
     "execution_count": 25,
     "metadata": {},
     "output_type": "execute_result"
    }
   ],
   "source": [
    "# Calculate the daily returns for all terms\n",
    "daily_returns(sector_data)"
   ]
  },
  {
   "cell_type": "code",
   "execution_count": 26,
   "id": "80dcc10a",
   "metadata": {},
   "outputs": [
    {
     "data": {
      "text/html": [
       "<div>\n",
       "<style scoped>\n",
       "    .dataframe tbody tr th:only-of-type {\n",
       "        vertical-align: middle;\n",
       "    }\n",
       "\n",
       "    .dataframe tbody tr th {\n",
       "        vertical-align: top;\n",
       "    }\n",
       "\n",
       "    .dataframe thead th {\n",
       "        text-align: right;\n",
       "    }\n",
       "</style>\n",
       "<table border=\"1\" class=\"dataframe\">\n",
       "  <thead>\n",
       "    <tr style=\"text-align: right;\">\n",
       "      <th></th>\n",
       "      <th>XLE Close</th>\n",
       "      <th>XLF Close</th>\n",
       "      <th>XLK Close</th>\n",
       "      <th>XLV Close</th>\n",
       "      <th>SPY Close</th>\n",
       "    </tr>\n",
       "  </thead>\n",
       "  <tbody>\n",
       "    <tr>\n",
       "      <th>2020-08-04</th>\n",
       "      <td>0.024336</td>\n",
       "      <td>-0.004149</td>\n",
       "      <td>0.002563</td>\n",
       "      <td>-0.004408</td>\n",
       "      <td>0.003863</td>\n",
       "    </tr>\n",
       "    <tr>\n",
       "      <th>2020-08-05</th>\n",
       "      <td>0.010529</td>\n",
       "      <td>0.013750</td>\n",
       "      <td>0.003702</td>\n",
       "      <td>0.004616</td>\n",
       "      <td>0.006211</td>\n",
       "    </tr>\n",
       "    <tr>\n",
       "      <th>2020-08-06</th>\n",
       "      <td>-0.008015</td>\n",
       "      <td>-0.000411</td>\n",
       "      <td>0.014052</td>\n",
       "      <td>-0.005345</td>\n",
       "      <td>0.006685</td>\n",
       "    </tr>\n",
       "    <tr>\n",
       "      <th>2020-08-07</th>\n",
       "      <td>0.001347</td>\n",
       "      <td>0.021382</td>\n",
       "      <td>-0.014897</td>\n",
       "      <td>0.003205</td>\n",
       "      <td>0.000718</td>\n",
       "    </tr>\n",
       "    <tr>\n",
       "      <th>2020-08-10</th>\n",
       "      <td>0.030931</td>\n",
       "      <td>0.007246</td>\n",
       "      <td>-0.002813</td>\n",
       "      <td>-0.003383</td>\n",
       "      <td>0.002989</td>\n",
       "    </tr>\n",
       "    <tr>\n",
       "      <th>...</th>\n",
       "      <td>...</td>\n",
       "      <td>...</td>\n",
       "      <td>...</td>\n",
       "      <td>...</td>\n",
       "      <td>...</td>\n",
       "    </tr>\n",
       "    <tr>\n",
       "      <th>2000-10-30</th>\n",
       "      <td>0.017068</td>\n",
       "      <td>0.036343</td>\n",
       "      <td>-0.013648</td>\n",
       "      <td>0.019326</td>\n",
       "      <td>0.008975</td>\n",
       "    </tr>\n",
       "    <tr>\n",
       "      <th>2000-10-31</th>\n",
       "      <td>0.006910</td>\n",
       "      <td>0.008219</td>\n",
       "      <td>0.046372</td>\n",
       "      <td>0.022752</td>\n",
       "      <td>0.017234</td>\n",
       "    </tr>\n",
       "    <tr>\n",
       "      <th>2000-11-01</th>\n",
       "      <td>0.032353</td>\n",
       "      <td>-0.004348</td>\n",
       "      <td>-0.019299</td>\n",
       "      <td>0.006886</td>\n",
       "      <td>-0.003388</td>\n",
       "    </tr>\n",
       "    <tr>\n",
       "      <th>2000-11-02</th>\n",
       "      <td>-0.035138</td>\n",
       "      <td>0.004913</td>\n",
       "      <td>0.025875</td>\n",
       "      <td>0.008943</td>\n",
       "      <td>0.001645</td>\n",
       "    </tr>\n",
       "    <tr>\n",
       "      <th>2000-11-03</th>\n",
       "      <td>-0.003937</td>\n",
       "      <td>-0.002716</td>\n",
       "      <td>0.007460</td>\n",
       "      <td>-0.003650</td>\n",
       "      <td>0.000547</td>\n",
       "    </tr>\n",
       "  </tbody>\n",
       "</table>\n",
       "<p>392 rows × 5 columns</p>\n",
       "</div>"
      ],
      "text/plain": [
       "            XLE Close  XLF Close  XLK Close  XLV Close  SPY Close\n",
       "2020-08-04   0.024336  -0.004149   0.002563  -0.004408   0.003863\n",
       "2020-08-05   0.010529   0.013750   0.003702   0.004616   0.006211\n",
       "2020-08-06  -0.008015  -0.000411   0.014052  -0.005345   0.006685\n",
       "2020-08-07   0.001347   0.021382  -0.014897   0.003205   0.000718\n",
       "2020-08-10   0.030931   0.007246  -0.002813  -0.003383   0.002989\n",
       "...               ...        ...        ...        ...        ...\n",
       "2000-10-30   0.017068   0.036343  -0.013648   0.019326   0.008975\n",
       "2000-10-31   0.006910   0.008219   0.046372   0.022752   0.017234\n",
       "2000-11-01   0.032353  -0.004348  -0.019299   0.006886  -0.003388\n",
       "2000-11-02  -0.035138   0.004913   0.025875   0.008943   0.001645\n",
       "2000-11-03  -0.003937  -0.002716   0.007460  -0.003650   0.000547\n",
       "\n",
       "[392 rows x 5 columns]"
      ]
     },
     "execution_count": 26,
     "metadata": {},
     "output_type": "execute_result"
    }
   ],
   "source": [
    "# Calculate the daily returns for three months prior to Election Day\n",
    "daily_returns(before_election_range)"
   ]
  },
  {
   "cell_type": "code",
   "execution_count": 27,
   "id": "6b53d81f",
   "metadata": {},
   "outputs": [
    {
     "data": {
      "text/html": [
       "<div>\n",
       "<style scoped>\n",
       "    .dataframe tbody tr th:only-of-type {\n",
       "        vertical-align: middle;\n",
       "    }\n",
       "\n",
       "    .dataframe tbody tr th {\n",
       "        vertical-align: top;\n",
       "    }\n",
       "\n",
       "    .dataframe thead th {\n",
       "        text-align: right;\n",
       "    }\n",
       "</style>\n",
       "<table border=\"1\" class=\"dataframe\">\n",
       "  <thead>\n",
       "    <tr style=\"text-align: right;\">\n",
       "      <th></th>\n",
       "      <th>XLE Close</th>\n",
       "      <th>XLF Close</th>\n",
       "      <th>XLK Close</th>\n",
       "      <th>XLV Close</th>\n",
       "      <th>SPY Close</th>\n",
       "    </tr>\n",
       "  </thead>\n",
       "  <tbody>\n",
       "    <tr>\n",
       "      <th>2020-11-04</th>\n",
       "      <td>0.001355</td>\n",
       "      <td>-0.011670</td>\n",
       "      <td>0.038904</td>\n",
       "      <td>0.044381</td>\n",
       "      <td>0.022349</td>\n",
       "    </tr>\n",
       "    <tr>\n",
       "      <th>2020-11-05</th>\n",
       "      <td>0.000000</td>\n",
       "      <td>0.024430</td>\n",
       "      <td>0.031064</td>\n",
       "      <td>0.002006</td>\n",
       "      <td>0.019503</td>\n",
       "    </tr>\n",
       "    <tr>\n",
       "      <th>2020-11-06</th>\n",
       "      <td>-0.021644</td>\n",
       "      <td>-0.007949</td>\n",
       "      <td>0.003549</td>\n",
       "      <td>0.000364</td>\n",
       "      <td>-0.000228</td>\n",
       "    </tr>\n",
       "    <tr>\n",
       "      <th>2020-11-09</th>\n",
       "      <td>0.142758</td>\n",
       "      <td>0.082131</td>\n",
       "      <td>-0.007238</td>\n",
       "      <td>0.009370</td>\n",
       "      <td>0.012566</td>\n",
       "    </tr>\n",
       "    <tr>\n",
       "      <th>2020-11-10</th>\n",
       "      <td>0.032365</td>\n",
       "      <td>0.005183</td>\n",
       "      <td>-0.018641</td>\n",
       "      <td>0.002884</td>\n",
       "      <td>-0.001467</td>\n",
       "    </tr>\n",
       "    <tr>\n",
       "      <th>...</th>\n",
       "      <td>...</td>\n",
       "      <td>...</td>\n",
       "      <td>...</td>\n",
       "      <td>...</td>\n",
       "      <td>...</td>\n",
       "    </tr>\n",
       "    <tr>\n",
       "      <th>2001-01-29</th>\n",
       "      <td>-0.008220</td>\n",
       "      <td>0.000826</td>\n",
       "      <td>0.021003</td>\n",
       "      <td>0.016410</td>\n",
       "      <td>0.005336</td>\n",
       "    </tr>\n",
       "    <tr>\n",
       "      <th>2001-01-30</th>\n",
       "      <td>0.008566</td>\n",
       "      <td>0.008802</td>\n",
       "      <td>0.002358</td>\n",
       "      <td>-0.002037</td>\n",
       "      <td>0.008785</td>\n",
       "    </tr>\n",
       "    <tr>\n",
       "      <th>2001-01-31</th>\n",
       "      <td>0.010695</td>\n",
       "      <td>-0.012416</td>\n",
       "      <td>-0.024837</td>\n",
       "      <td>-0.006122</td>\n",
       "      <td>-0.005660</td>\n",
       "    </tr>\n",
       "    <tr>\n",
       "      <th>2001-02-01</th>\n",
       "      <td>-0.012761</td>\n",
       "      <td>0.001359</td>\n",
       "      <td>-0.000536</td>\n",
       "      <td>0.013347</td>\n",
       "      <td>0.006641</td>\n",
       "    </tr>\n",
       "    <tr>\n",
       "      <th>2001-02-02</th>\n",
       "      <td>0.016709</td>\n",
       "      <td>0.002715</td>\n",
       "      <td>-0.043991</td>\n",
       "      <td>-0.011820</td>\n",
       "      <td>-0.022693</td>\n",
       "    </tr>\n",
       "  </tbody>\n",
       "</table>\n",
       "<p>376 rows × 5 columns</p>\n",
       "</div>"
      ],
      "text/plain": [
       "            XLE Close  XLF Close  XLK Close  XLV Close  SPY Close\n",
       "2020-11-04   0.001355  -0.011670   0.038904   0.044381   0.022349\n",
       "2020-11-05   0.000000   0.024430   0.031064   0.002006   0.019503\n",
       "2020-11-06  -0.021644  -0.007949   0.003549   0.000364  -0.000228\n",
       "2020-11-09   0.142758   0.082131  -0.007238   0.009370   0.012566\n",
       "2020-11-10   0.032365   0.005183  -0.018641   0.002884  -0.001467\n",
       "...               ...        ...        ...        ...        ...\n",
       "2001-01-29  -0.008220   0.000826   0.021003   0.016410   0.005336\n",
       "2001-01-30   0.008566   0.008802   0.002358  -0.002037   0.008785\n",
       "2001-01-31   0.010695  -0.012416  -0.024837  -0.006122  -0.005660\n",
       "2001-02-01  -0.012761   0.001359  -0.000536   0.013347   0.006641\n",
       "2001-02-02   0.016709   0.002715  -0.043991  -0.011820  -0.022693\n",
       "\n",
       "[376 rows x 5 columns]"
      ]
     },
     "execution_count": 27,
     "metadata": {},
     "output_type": "execute_result"
    }
   ],
   "source": [
    "# Calculate the daily returns for three months after Election Day\n",
    "daily_returns(after_election_range)"
   ]
  },
  {
   "cell_type": "code",
   "execution_count": 28,
   "id": "1babca4b",
   "metadata": {},
   "outputs": [
    {
     "data": {
      "text/html": [
       "<div>\n",
       "<style scoped>\n",
       "    .dataframe tbody tr th:only-of-type {\n",
       "        vertical-align: middle;\n",
       "    }\n",
       "\n",
       "    .dataframe tbody tr th {\n",
       "        vertical-align: top;\n",
       "    }\n",
       "\n",
       "    .dataframe thead th {\n",
       "        text-align: right;\n",
       "    }\n",
       "</style>\n",
       "<table border=\"1\" class=\"dataframe\">\n",
       "  <thead>\n",
       "    <tr style=\"text-align: right;\">\n",
       "      <th></th>\n",
       "      <th>XLE Close</th>\n",
       "      <th>XLF Close</th>\n",
       "      <th>XLK Close</th>\n",
       "      <th>XLV Close</th>\n",
       "      <th>SPY Close</th>\n",
       "    </tr>\n",
       "  </thead>\n",
       "  <tbody>\n",
       "    <tr>\n",
       "      <th>2021-01-21</th>\n",
       "      <td>-0.033813</td>\n",
       "      <td>-0.010683</td>\n",
       "      <td>0.012914</td>\n",
       "      <td>-0.004726</td>\n",
       "      <td>0.000912</td>\n",
       "    </tr>\n",
       "    <tr>\n",
       "      <th>2021-01-22</th>\n",
       "      <td>-0.005202</td>\n",
       "      <td>-0.007199</td>\n",
       "      <td>-0.003825</td>\n",
       "      <td>-0.002968</td>\n",
       "      <td>-0.003539</td>\n",
       "    </tr>\n",
       "    <tr>\n",
       "      <th>2021-01-25</th>\n",
       "      <td>-0.010221</td>\n",
       "      <td>-0.007251</td>\n",
       "      <td>0.008357</td>\n",
       "      <td>0.006548</td>\n",
       "      <td>0.003944</td>\n",
       "    </tr>\n",
       "    <tr>\n",
       "      <th>2021-01-26</th>\n",
       "      <td>-0.021374</td>\n",
       "      <td>-0.007968</td>\n",
       "      <td>0.000672</td>\n",
       "      <td>-0.003717</td>\n",
       "      <td>-0.001561</td>\n",
       "    </tr>\n",
       "    <tr>\n",
       "      <th>2021-01-27</th>\n",
       "      <td>-0.013497</td>\n",
       "      <td>-0.029451</td>\n",
       "      <td>-0.018876</td>\n",
       "      <td>-0.030360</td>\n",
       "      <td>-0.024440</td>\n",
       "    </tr>\n",
       "    <tr>\n",
       "      <th>...</th>\n",
       "      <td>...</td>\n",
       "      <td>...</td>\n",
       "      <td>...</td>\n",
       "      <td>...</td>\n",
       "      <td>...</td>\n",
       "    </tr>\n",
       "    <tr>\n",
       "      <th>2001-04-24</th>\n",
       "      <td>0.001823</td>\n",
       "      <td>-0.005166</td>\n",
       "      <td>-0.015526</td>\n",
       "      <td>0.002826</td>\n",
       "      <td>-0.005399</td>\n",
       "    </tr>\n",
       "    <tr>\n",
       "      <th>2001-04-25</th>\n",
       "      <td>0.014255</td>\n",
       "      <td>0.010757</td>\n",
       "      <td>0.017563</td>\n",
       "      <td>0.011624</td>\n",
       "      <td>0.013078</td>\n",
       "    </tr>\n",
       "    <tr>\n",
       "      <th>2001-04-26</th>\n",
       "      <td>0.019737</td>\n",
       "      <td>0.004037</td>\n",
       "      <td>-0.014089</td>\n",
       "      <td>0.012535</td>\n",
       "      <td>0.004465</td>\n",
       "    </tr>\n",
       "    <tr>\n",
       "      <th>2001-04-27</th>\n",
       "      <td>-0.006745</td>\n",
       "      <td>0.021564</td>\n",
       "      <td>0.013576</td>\n",
       "      <td>-0.009629</td>\n",
       "      <td>0.016650</td>\n",
       "    </tr>\n",
       "    <tr>\n",
       "      <th>2001-04-30</th>\n",
       "      <td>0.000000</td>\n",
       "      <td>-0.016100</td>\n",
       "      <td>0.015509</td>\n",
       "      <td>0.000000</td>\n",
       "      <td>0.006996</td>\n",
       "    </tr>\n",
       "  </tbody>\n",
       "</table>\n",
       "<p>418 rows × 5 columns</p>\n",
       "</div>"
      ],
      "text/plain": [
       "            XLE Close  XLF Close  XLK Close  XLV Close  SPY Close\n",
       "2021-01-21  -0.033813  -0.010683   0.012914  -0.004726   0.000912\n",
       "2021-01-22  -0.005202  -0.007199  -0.003825  -0.002968  -0.003539\n",
       "2021-01-25  -0.010221  -0.007251   0.008357   0.006548   0.003944\n",
       "2021-01-26  -0.021374  -0.007968   0.000672  -0.003717  -0.001561\n",
       "2021-01-27  -0.013497  -0.029451  -0.018876  -0.030360  -0.024440\n",
       "...               ...        ...        ...        ...        ...\n",
       "2001-04-24   0.001823  -0.005166  -0.015526   0.002826  -0.005399\n",
       "2001-04-25   0.014255   0.010757   0.017563   0.011624   0.013078\n",
       "2001-04-26   0.019737   0.004037  -0.014089   0.012535   0.004465\n",
       "2001-04-27  -0.006745   0.021564   0.013576  -0.009629   0.016650\n",
       "2001-04-30   0.000000  -0.016100   0.015509   0.000000   0.006996\n",
       "\n",
       "[418 rows x 5 columns]"
      ]
     },
     "execution_count": 28,
     "metadata": {},
     "output_type": "execute_result"
    }
   ],
   "source": [
    "# Calculate the daily returns for the first 100 days of each administration\n",
    "daily_returns(first_days_range)"
   ]
  },
  {
   "cell_type": "code",
   "execution_count": 29,
   "id": "c7a0c044",
   "metadata": {},
   "outputs": [],
   "source": [
    "# Define a function to calculate the standard deviation of daily returns\n",
    "def standard_deviation(df):\n",
    "    df_standard_deviation = df.std()\n",
    "    return df_standard_deviation"
   ]
  },
  {
   "cell_type": "code",
   "execution_count": 49,
   "id": "cb241f73",
   "metadata": {},
   "outputs": [
    {
     "data": {
      "text/plain": [
       "XLE Close    19.776477\n",
       "XLF Close     6.309189\n",
       "XLK Close    29.617997\n",
       "XLV Close    27.805574\n",
       "SPY Close    79.958398\n",
       "dtype: float64"
      ]
     },
     "execution_count": 49,
     "metadata": {},
     "output_type": "execute_result"
    }
   ],
   "source": [
    "# Calculate thestandard deviation for all terms\n",
    "std = standard_deviation(sector_data)\n",
    "std"
   ]
  },
  {
   "cell_type": "code",
   "execution_count": 44,
   "id": "b87e7764",
   "metadata": {},
   "outputs": [
    {
     "data": {
      "text/plain": [
       "XLE Close    18.485452\n",
       "XLF Close     4.443077\n",
       "XLK Close    33.496550\n",
       "XLV Close    28.959051\n",
       "SPY Close    80.198165\n",
       "dtype: float64"
      ]
     },
     "execution_count": 44,
     "metadata": {},
     "output_type": "execute_result"
    }
   ],
   "source": [
    "# Calculate the standard deviation for three months prior to Election Day\n",
    "before_election_std = standard_deviation(before_election_range)\n",
    "before_election_std"
   ]
  },
  {
   "cell_type": "code",
   "execution_count": 42,
   "id": "8da731a8",
   "metadata": {},
   "outputs": [],
   "source": [
    "# Calculate the standard deviation for Election Day plus 13 days\n",
    "after_election_std = standard_deviation(after_election_range)"
   ]
  },
  {
   "cell_type": "code",
   "execution_count": 33,
   "id": "6d6a10bd",
   "metadata": {},
   "outputs": [
    {
     "data": {
      "text/plain": [
       "XLE Close     16.480628\n",
       "XLF Close      8.266321\n",
       "XLK Close     41.546364\n",
       "XLV Close     33.163136\n",
       "SPY Close    106.267626\n",
       "dtype: float64"
      ]
     },
     "execution_count": 33,
     "metadata": {},
     "output_type": "execute_result"
    }
   ],
   "source": [
    "# Calculate the standard deviation for Inauguration Day plus 13 days\n",
    "standard_deviation(first_days_range)"
   ]
  },
  {
   "cell_type": "code",
   "execution_count": 48,
   "id": "9ff5cb7f-30c5-40cf-9e47-8f8201b2e764",
   "metadata": {},
   "outputs": [
    {
     "data": {
      "text/plain": [
       "<AxesSubplot:>"
      ]
     },
     "execution_count": 48,
     "metadata": {},
     "output_type": "execute_result"
    },
    {
     "data": {
      "image/png": "[encoded data removed]",
      "text/plain": [
       "<Figure size 720x360 with 1 Axes>"
      ]
     },
     "metadata": {
      "needs_background": "light"
     },
     "output_type": "display_data"
    }
   ],
   "source": [
    "std.plot.bar(figsize=(10,5))"
   ]
  },
  {
   "cell_type": "code",
   "execution_count": 54,
   "id": "ca32b8bd-b6d9-4704-8a5b-3051802d3389",
   "metadata": {},
   "outputs": [
    {
     "data": {
      "text/plain": [
       "<AxesSubplot:>"
      ]
     },
     "execution_count": 54,
     "metadata": {},
     "output_type": "execute_result"
    },
    {
     "data": {
      "image/png": "[encoded data removed]",
      "text/plain": [
       "<Figure size 720x360 with 1 Axes>"
      ]
     },
     "metadata": {
      "needs_background": "light"
     },
     "output_type": "display_data"
    }
   ],
   "source": [
    "before_election_biden_std = standard_deviation(before_election_biden)\n",
    "after_election_biden_std = standard_deviation(after_election_biden)\n",
    "\n",
    "\n",
    "before_election_biden_std.plot.bar(figsize=(10,5))"
   ]
  },
  {
   "cell_type": "code",
   "execution_count": 55,
   "id": "2f6e7957-751a-401b-b15f-b1ee577c6945",
   "metadata": {},
   "outputs": [
    {
     "data": {
      "text/plain": [
       "<AxesSubplot:>"
      ]
     },
     "execution_count": 55,
     "metadata": {},
     "output_type": "execute_result"
    },
    {
     "data": {
      "image/png": "[encoded data removed]",
      "text/plain": [
       "<Figure size 720x360 with 1 Axes>"
      ]
     },
     "metadata": {
      "needs_background": "light"
     },
     "output_type": "display_data"
    }
   ],
   "source": [
    "after_election_biden_std.plot.bar(figsize=(10,5))"
   ]
  },
  {
   "cell_type": "code",
   "execution_count": 81,
   "id": "e9d1140a-0979-4111-838d-4dc3f028c07a",
   "metadata": {},
   "outputs": [
    {
     "data": {
      "text/html": [
       "<div>\n",
       "<style scoped>\n",
       "    .dataframe tbody tr th:only-of-type {\n",
       "        vertical-align: middle;\n",
       "    }\n",
       "\n",
       "    .dataframe tbody tr th {\n",
       "        vertical-align: top;\n",
       "    }\n",
       "\n",
       "    .dataframe thead th {\n",
       "        text-align: right;\n",
       "    }\n",
       "</style>\n",
       "<table border=\"1\" class=\"dataframe\">\n",
       "  <thead>\n",
       "    <tr style=\"text-align: right;\">\n",
       "      <th></th>\n",
       "      <th>(Before,)</th>\n",
       "      <th>(After,)</th>\n",
       "    </tr>\n",
       "  </thead>\n",
       "  <tbody>\n",
       "    <tr>\n",
       "      <th>XLE Close</th>\n",
       "      <td>3.264641</td>\n",
       "      <td>3.591761</td>\n",
       "    </tr>\n",
       "    <tr>\n",
       "      <th>XLF Close</th>\n",
       "      <td>0.550069</td>\n",
       "      <td>1.585715</td>\n",
       "    </tr>\n",
       "    <tr>\n",
       "      <th>XLK Close</th>\n",
       "      <td>3.858567</td>\n",
       "      <td>4.690815</td>\n",
       "    </tr>\n",
       "    <tr>\n",
       "      <th>XLV Close</th>\n",
       "      <td>1.838505</td>\n",
       "      <td>3.079944</td>\n",
       "    </tr>\n",
       "    <tr>\n",
       "      <th>SPY Close</th>\n",
       "      <td>7.535620</td>\n",
       "      <td>10.430641</td>\n",
       "    </tr>\n",
       "  </tbody>\n",
       "</table>\n",
       "</div>"
      ],
      "text/plain": [
       "           (Before,)   (After,)\n",
       "XLE Close   3.264641   3.591761\n",
       "XLF Close   0.550069   1.585715\n",
       "XLK Close   3.858567   4.690815\n",
       "XLV Close   1.838505   3.079944\n",
       "SPY Close   7.535620  10.430641"
      ]
     },
     "execution_count": 81,
     "metadata": {},
     "output_type": "execute_result"
    }
   ],
   "source": [
    "combined_biden = pd.concat([before_election_biden_std, after_election_biden_std], axis = 'columns', join= 'inner')\n",
    "\n",
    "combined_biden.columns = ['Before'],['After']\n",
    "combined_biden"
   ]
  },
  {
   "cell_type": "code",
   "execution_count": 82,
   "id": "d98a09a3-1519-41c8-8b9d-9a059e928aa6",
   "metadata": {},
   "outputs": [
    {
     "data": {
      "text/plain": [
       "<AxesSubplot:>"
      ]
     },
     "execution_count": 82,
     "metadata": {},
     "output_type": "execute_result"
    },
    {
     "data": {
      "image/png": "[encoded data removed]",
      "text/plain": [
       "<Figure size 720x360 with 1 Axes>"
      ]
     },
     "metadata": {
      "needs_background": "light"
     },
     "output_type": "display_data"
    }
   ],
   "source": [
    "combined_biden.plot.bar(figsize=(10,5))"
   ]
  },
  {
   "cell_type": "code",
   "execution_count": 57,
   "id": "699f3081-302e-4d6e-aed7-a43d9c5763e9",
   "metadata": {},
   "outputs": [
    {
     "data": {
      "text/plain": [
       "<AxesSubplot:>"
      ]
     },
     "execution_count": 57,
     "metadata": {},
     "output_type": "execute_result"
    },
    {
     "data": {
      "image/png": "[encoded data removed]",
      "text/plain": [
       "<Figure size 720x360 with 1 Axes>"
      ]
     },
     "metadata": {
      "needs_background": "light"
     },
     "output_type": "display_data"
    }
   ],
   "source": [
    "before_election_trump_std = standard_deviation(before_election_trump)\n",
    "after_election_trump_std = standard_deviation(after_election_trump)\n",
    "\n",
    "before_election_trump_std.plot.bar(figsize=(10,5))"
   ]
  }
 ],
 "metadata": {
  "kernelspec": {
   "display_name": "Python 3 (ipykernel)",
   "language": "python",
   "name": "python3"
  },
  "language_info": {
   "codemirror_mode": {
    "name": "ipython",
    "version": 3
   },
   "file_extension": ".py",
   "mimetype": "text/x-python",
   "name": "python",
   "nbconvert_exporter": "python",
   "pygments_lexer": "ipython3",
   "version": "3.8.8"
  }
 },
 "nbformat": 4,
 "nbformat_minor": 5
}
